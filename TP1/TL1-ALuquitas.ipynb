{
 "cells": [
  {
   "cell_type": "markdown",
   "metadata": {},
   "source": [
    "<h1 style=\"color:blue\"> TL1 - punto a) Regresión Lineal </h1> "
   ]
  },
  {
   "cell_type": "code",
   "execution_count": 24,
   "metadata": {},
   "outputs": [],
   "source": [
    "#!/usr/bin/env python3\n",
    "# -*- coding: utf-8 -*-"
   ]
  },
  {
   "cell_type": "markdown",
   "metadata": {},
   "source": [
    "#### Importo el dataset e interpretó la informacion contenida"
   ]
  },
  {
   "cell_type": "code",
   "execution_count": 25,
   "metadata": {},
   "outputs": [],
   "source": [
    "#Importo las librerias: Pandas y Numpy\n",
    "import pandas as pd \n",
    "import numpy as np\n",
    "dataset = pd.read_csv('TL_N°1_mediciones_csv_Datos_Presión.csv', names = (\"Presion 1\",\"Presion 2\"), dtype = {'Presion 1': np.float64, 'Presion 2': np.float64})"
   ]
  },
  {
   "cell_type": "markdown",
   "metadata": {},
   "source": [
    "#### Analizo el comportamiento del modelo de datos"
   ]
  },
  {
   "cell_type": "code",
   "execution_count": 26,
   "metadata": {},
   "outputs": [
    {
     "name": "stdout",
     "output_type": "stream",
     "text": [
      "Informacion en el dataset: \n",
      "   Presion 1  Presion 2\n",
      "0    1000.83    1000.33\n",
      "1    1000.64    1000.24\n",
      "2    1000.81    1000.48\n",
      "3    1000.80    1000.56\n",
      "4    1001.28    1001.01\n",
      "5    1001.69    1001.47\n",
      "6    1002.02    1001.77\n",
      "7    1001.64    1001.44\n",
      "8    1001.17    1001.06\n",
      "9    1001.52    1001.31\n"
     ]
    }
   ],
   "source": [
    "#verifico la informacion contenida en el dataset\n",
    "print(\"Informacion en el dataset: \")\n",
    "print(dataset.head(10))"
   ]
  },
  {
   "cell_type": "code",
   "execution_count": 27,
   "metadata": {},
   "outputs": [
    {
     "name": "stdout",
     "output_type": "stream",
     "text": [
      "Media Dataset 1:  1016.5804504504505 \n",
      "Media Dataset 2:  1016.8418318318319\n",
      "\n",
      "Desvio Dataset 1:  6.96285228344962 \n",
      "Desvio Dataset 2:  7.05816186024652\n"
     ]
    }
   ],
   "source": [
    "import statistics as stats\n",
    "\n",
    "#Se obtiene la media de los 2 datasets\n",
    "media_p1 = stats.mean(dataset[\"Presion 1\"])\n",
    "media_p2 = stats.mean(dataset[\"Presion 2\"])\n",
    "\n",
    "print(\"Media Dataset 1: \", media_p1, \"\\nMedia Dataset 2: \", media_p2)\n",
    "\n",
    "#Se obtiene el desvio estandar de los 2 datasets\n",
    "desvio_p1 = stats.stdev(dataset[\"Presion 1\"])\n",
    "desvio_p2 = stats.stdev(dataset[\"Presion 2\"])\n",
    "\n",
    "print(\"\\nDesvio Dataset 1: \", desvio_p1, \"\\nDesvio Dataset 2: \", desvio_p2)\n",
    "\n",
    "X = dataset[\"Presion 1\"]\n",
    "y = dataset[\"Presion 2\"]"
   ]
  },
  {
   "cell_type": "code",
   "execution_count": 28,
   "metadata": {},
   "outputs": [
    {
     "data": {
      "image/png": "[encoded data removed]",
      "text/plain": [
       "<Figure size 1440x720 with 2 Axes>"
      ]
     },
     "metadata": {
      "needs_background": "light"
     },
     "output_type": "display_data"
    }
   ],
   "source": [
    "import matplotlib.pyplot as plt\n",
    "\n",
    "plt.figure(figsize = (20,10))\n",
    "\n",
    "plt.subplot(221)\n",
    "plt.title(\"Histograma de presiones 1\")\n",
    "plt.hist(X, bins = 100, color = 'g')\n",
    "plt.subplot(222)\n",
    "plt.title(\"Histograma de presiones 2\")\n",
    "plt.hist(y, bins = 100, color = 'y', label = \"Presion 2\")\n",
    "plt.legend(loc=2)\n",
    "plt.show()"
   ]
  },
  {
   "cell_type": "markdown",
   "metadata": {},
   "source": [
    "##### Como puede observarse en los histogramas tanto las presiones calculadas en el punto a como las presiones calculadas en el punto b, no siguen un comportamiento lineal ya que los datos estan bastante dispersos y la poblacion es heterogena"
   ]
  },
  {
   "cell_type": "markdown",
   "metadata": {},
   "source": [
    "#### A continuación, Se procede a ver la relacion de las presiones p1(p2) para ver si representa un comportamiento lineal"
   ]
  },
  {
   "cell_type": "code",
   "execution_count": 29,
   "metadata": {},
   "outputs": [
    {
     "data": {
      "image/png": "[encoded data removed]",
      "text/plain": [
       "<Figure size 720x360 with 1 Axes>"
      ]
     },
     "metadata": {
      "needs_background": "light"
     },
     "output_type": "display_data"
    }
   ],
   "source": [
    "#Grafico los datos junto con el modelo\n",
    "plt.figure(figsize = (10,5))\n",
    "plt.scatter(X, y, color = 'g')\n",
    "plt.title('Relacion de presiones entre dos puntos')\n",
    "plt.xlabel('Presion 1')\n",
    "plt.ylabel('Presion 2')\n",
    "plt.show()"
   ]
  },
  {
   "cell_type": "markdown",
   "metadata": {},
   "source": [
    "##### Como puede observarse graficando la relacion de presiones en el datacenter sigue una distribucion lineal, y practicamente no existe una tasa de error grande ya que la distancia entre ambos puntos es minima., con lo cual se interpreta un comportamiento lineal"
   ]
  },
  {
   "cell_type": "markdown",
   "metadata": {},
   "source": [
    "### IMPLEMENTACION DE REGRESION LINEAL SIMPLE"
   ]
  },
  {
   "cell_type": "code",
   "execution_count": 30,
   "metadata": {},
   "outputs": [],
   "source": [
    "X = X.values.reshape(-1,1)\n",
    "y = y.values.reshape(-1,1)"
   ]
  },
  {
   "cell_type": "code",
   "execution_count": 31,
   "metadata": {},
   "outputs": [],
   "source": [
    "from sklearn.model_selection import train_test_split\n",
    "from sklearn import datasets, linear_model\n",
    "\n",
    "#separo los datos \"train\" en entrenamiento y prueba para probar los algoritmos\n",
    "X_train, X_test, y_train, y_test = train_test_split(X, y, test_size = 0.3)\n",
    "\n",
    "#Defino el algoritmo a utilizar\n",
    "lr = linear_model.LinearRegression()\n",
    "\n",
    "#Entreno el modelo\n",
    "lr.fit(X_train, y_train)\n",
    "\n",
    "#Realizo una prediccion con los datos de prueba\n",
    "Y_pred = lr.predict(X_test)"
   ]
  },
  {
   "cell_type": "code",
   "execution_count": 32,
   "metadata": {},
   "outputs": [
    {
     "name": "stdout",
     "output_type": "stream",
     "text": [
      "Datos del modelo de Regresion Lineal Simple\n",
      "Valor de la pendiente o oeficiente 'a': \n",
      "[[1.01361654]]\n",
      "Valor de la interseccion: \n",
      "[-13.57718438]\n",
      "La Ecuacion del modelo es: \n",
      "Y =  [[1.01361654]] X [-13.57718438]\n",
      "Precision del modelo: \n",
      "0.9997626004004034\n"
     ]
    }
   ],
   "source": [
    "#Calcular los datos de la pendiente o el coeficiente (a) y la interseccion (b) -> y = ax + b\n",
    "print(\"Datos del modelo de Regresion Lineal Simple\")\n",
    "\n",
    "print(\"Valor de la pendiente o oeficiente 'a': \")\n",
    "a = lr.coef_\n",
    "print(a)\n",
    "\n",
    "print(\"Valor de la interseccion: \")\n",
    "b = lr.intercept_\n",
    "print(b)\n",
    "\n",
    "print(\"La Ecuacion del modelo es: \")\n",
    "print('Y = ', a, 'X' ,b)\n",
    "\n",
    "print(\"Precision del modelo: \")\n",
    "print(lr.score(X_train, y_train))"
   ]
  },
  {
   "cell_type": "markdown",
   "metadata": {},
   "source": [
    "###### Como la precision del modelo es del 0.99.. casi 1 quiere decir que se comporta de manera lineal el modelo de regresión por lo tanto se puede predecir la variable p1 en funcion de p2"
   ]
  },
  {
   "cell_type": "code",
   "execution_count": 33,
   "metadata": {},
   "outputs": [
    {
     "name": "stdout",
     "output_type": "stream",
     "text": [
      "Error Cuadratico medio (mse):  0.01807784608398798\n"
     ]
    }
   ],
   "source": [
    "from sklearn.metrics import mean_squared_error, mean_absolute_error, r2_score\n",
    "mse = mean_squared_error(y_test, Y_pred)\n",
    "print(\"Error Cuadratico medio (mse): \", mse)\n",
    "rmse = np.sqrt(mse)\n"
   ]
  },
  {
   "cell_type": "markdown",
   "metadata": {},
   "source": [
    "##### como puede observarse el error es del 0.01 practicamente los puntos entre p1 y p2 estan muy cercanos, siguiendo una distribucion lineal con poblacion homogenea, si se realiza un histograma puede observarse que la media esta entre \"\" y que sigue una distribucion uniforme"
   ]
  },
  {
   "cell_type": "markdown",
   "metadata": {},
   "source": [
    "##### se grafica los valores reales del entrenamiento y los valores predecidos del entrenamiento"
   ]
  },
  {
   "cell_type": "code",
   "execution_count": 34,
   "metadata": {},
   "outputs": [
    {
     "data": {
      "image/png": "[encoded data removed]",
      "text/plain": [
       "<Figure size 432x288 with 1 Axes>"
      ]
     },
     "metadata": {
      "needs_background": "light"
     },
     "output_type": "display_data"
    }
   ],
   "source": [
    "plt.scatter(X_test, y_test,  color='red')\n",
    "plt.plot(X_test, Y_pred, color='blue', linewidth=3)\n",
    "plt.title('Regresion Lineal Simple')\n",
    "plt.xlabel('Presiones punto 1')\n",
    "plt.ylabel('Presiones punto 2')\n",
    "plt.show()"
   ]
  },
  {
   "cell_type": "code",
   "execution_count": null,
   "metadata": {},
   "outputs": [],
   "source": []
  }
 ],
 "metadata": {
  "kernelspec": {
   "display_name": "Python 3",
   "language": "python",
   "name": "python3"
  },
  "language_info": {
   "codemirror_mode": {
    "name": "ipython",
    "version": 3
   },
   "file_extension": ".py",
   "mimetype": "text/x-python",
   "name": "python",
   "nbconvert_exporter": "python",
   "pygments_lexer": "ipython3",
   "version": "3.7.6"
  }
 },
 "nbformat": 4,
 "nbformat_minor": 4
}
