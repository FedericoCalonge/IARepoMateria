{
 "cells": [
  {
   "cell_type": "markdown",
   "metadata": {},
   "source": [
    "# <h1 style=\"color:blue\"> TL1 - Punto 1) Analisis de Datos y Regresión Lineal - Presiones DataCenter </h1> "
   ]
  },
  {
   "cell_type": "code",
   "execution_count": 2,
   "metadata": {},
   "outputs": [],
   "source": [
    "#!/usr/bin/env python3\n",
    "# -*- coding: utf-8 -*-"
   ]
  },
  {
   "cell_type": "code",
   "execution_count": 44,
   "metadata": {},
   "outputs": [],
   "source": [
    "#Importamos Las librerìas necesarias. \n",
    "import pandas as pd   #Manejo del dataset. \n",
    "import numpy as np    #Manejo matemàtico del dataset. \n",
    "import seaborn as sns #Para plotear las variables (en histogramas y gràficos de dispersiòn)\n",
    "import matplotlib.pyplot as plt  #Para los demás gráficos. \n",
    "\n",
    "#Scikit Leanr para modelo de Regresiòn Lineal:\n",
    "from sklearn.linear_model import LinearRegression\n",
    "from sklearn.model_selection import train_test_split\n",
    "from sklearn import datasets, linear_model"
   ]
  },
  {
   "cell_type": "markdown",
   "metadata": {},
   "source": [
    "### Importo el dataset e interpreto la informacion contenida"
   ]
  },
  {
   "cell_type": "code",
   "execution_count": 45,
   "metadata": {
    "scrolled": true
   },
   "outputs": [
    {
     "data": {
      "text/html": [
       "<div>\n",
       "<style scoped>\n",
       "    .dataframe tbody tr th:only-of-type {\n",
       "        vertical-align: middle;\n",
       "    }\n",
       "\n",
       "    .dataframe tbody tr th {\n",
       "        vertical-align: top;\n",
       "    }\n",
       "\n",
       "    .dataframe thead th {\n",
       "        text-align: right;\n",
       "    }\n",
       "</style>\n",
       "<table border=\"1\" class=\"dataframe\">\n",
       "  <thead>\n",
       "    <tr style=\"text-align: right;\">\n",
       "      <th></th>\n",
       "      <th>Presion 1</th>\n",
       "      <th>Presion 2</th>\n",
       "    </tr>\n",
       "  </thead>\n",
       "  <tbody>\n",
       "    <tr>\n",
       "      <th>0</th>\n",
       "      <td>1000.83</td>\n",
       "      <td>1000.33</td>\n",
       "    </tr>\n",
       "    <tr>\n",
       "      <th>1</th>\n",
       "      <td>1000.64</td>\n",
       "      <td>1000.24</td>\n",
       "    </tr>\n",
       "    <tr>\n",
       "      <th>2</th>\n",
       "      <td>1000.81</td>\n",
       "      <td>1000.48</td>\n",
       "    </tr>\n",
       "    <tr>\n",
       "      <th>3</th>\n",
       "      <td>1000.80</td>\n",
       "      <td>1000.56</td>\n",
       "    </tr>\n",
       "    <tr>\n",
       "      <th>4</th>\n",
       "      <td>1001.28</td>\n",
       "      <td>1001.01</td>\n",
       "    </tr>\n",
       "    <tr>\n",
       "      <th>5</th>\n",
       "      <td>1001.69</td>\n",
       "      <td>1001.47</td>\n",
       "    </tr>\n",
       "    <tr>\n",
       "      <th>6</th>\n",
       "      <td>1002.02</td>\n",
       "      <td>1001.77</td>\n",
       "    </tr>\n",
       "    <tr>\n",
       "      <th>7</th>\n",
       "      <td>1001.64</td>\n",
       "      <td>1001.44</td>\n",
       "    </tr>\n",
       "    <tr>\n",
       "      <th>8</th>\n",
       "      <td>1001.17</td>\n",
       "      <td>1001.06</td>\n",
       "    </tr>\n",
       "    <tr>\n",
       "      <th>9</th>\n",
       "      <td>1001.52</td>\n",
       "      <td>1001.31</td>\n",
       "    </tr>\n",
       "  </tbody>\n",
       "</table>\n",
       "</div>"
      ],
      "text/plain": [
       "   Presion 1  Presion 2\n",
       "0    1000.83    1000.33\n",
       "1    1000.64    1000.24\n",
       "2    1000.81    1000.48\n",
       "3    1000.80    1000.56\n",
       "4    1001.28    1001.01\n",
       "5    1001.69    1001.47\n",
       "6    1002.02    1001.77\n",
       "7    1001.64    1001.44\n",
       "8    1001.17    1001.06\n",
       "9    1001.52    1001.31"
      ]
     },
     "execution_count": 45,
     "metadata": {},
     "output_type": "execute_result"
    }
   ],
   "source": [
    "dataset = pd.read_csv('DataSourceTL1-A/TL_N°1_mediciones_csv_Datos_Presión.csv', \n",
    "                      names = (\"Presion 1\",\"Presion 2\"), \n",
    "                      dtype = {'Presion 1': np.float64, 'Presion 2': np.float64})\n",
    "dataset.head(10) #utilizamos Pandas para leer el dataset (los 1ros 10 registros) y devolver el DataFrame. "
   ]
  },
  {
   "cell_type": "markdown",
   "metadata": {},
   "source": [
    "### Realizamos un analisis estadistico"
   ]
  },
  {
   "cell_type": "code",
   "execution_count": 46,
   "metadata": {},
   "outputs": [
    {
     "data": {
      "text/html": [
       "<div>\n",
       "<style scoped>\n",
       "    .dataframe tbody tr th:only-of-type {\n",
       "        vertical-align: middle;\n",
       "    }\n",
       "\n",
       "    .dataframe tbody tr th {\n",
       "        vertical-align: top;\n",
       "    }\n",
       "\n",
       "    .dataframe thead th {\n",
       "        text-align: right;\n",
       "    }\n",
       "</style>\n",
       "<table border=\"1\" class=\"dataframe\">\n",
       "  <thead>\n",
       "    <tr style=\"text-align: right;\">\n",
       "      <th></th>\n",
       "      <th>Presion 1</th>\n",
       "      <th>Presion 2</th>\n",
       "    </tr>\n",
       "  </thead>\n",
       "  <tbody>\n",
       "    <tr>\n",
       "      <th>count</th>\n",
       "      <td>999.000000</td>\n",
       "      <td>999.000000</td>\n",
       "    </tr>\n",
       "    <tr>\n",
       "      <th>mean</th>\n",
       "      <td>1016.580450</td>\n",
       "      <td>1016.841832</td>\n",
       "    </tr>\n",
       "    <tr>\n",
       "      <th>std</th>\n",
       "      <td>6.962852</td>\n",
       "      <td>7.058162</td>\n",
       "    </tr>\n",
       "    <tr>\n",
       "      <th>min</th>\n",
       "      <td>1000.560000</td>\n",
       "      <td>1000.240000</td>\n",
       "    </tr>\n",
       "    <tr>\n",
       "      <th>25%</th>\n",
       "      <td>1015.375000</td>\n",
       "      <td>1015.685000</td>\n",
       "    </tr>\n",
       "    <tr>\n",
       "      <th>50%</th>\n",
       "      <td>1017.940000</td>\n",
       "      <td>1018.280000</td>\n",
       "    </tr>\n",
       "    <tr>\n",
       "      <th>75%</th>\n",
       "      <td>1019.190000</td>\n",
       "      <td>1019.485000</td>\n",
       "    </tr>\n",
       "    <tr>\n",
       "      <th>max</th>\n",
       "      <td>1025.880000</td>\n",
       "      <td>1026.150000</td>\n",
       "    </tr>\n",
       "  </tbody>\n",
       "</table>\n",
       "</div>"
      ],
      "text/plain": [
       "         Presion 1    Presion 2\n",
       "count   999.000000   999.000000\n",
       "mean   1016.580450  1016.841832\n",
       "std       6.962852     7.058162\n",
       "min    1000.560000  1000.240000\n",
       "25%    1015.375000  1015.685000\n",
       "50%    1017.940000  1018.280000\n",
       "75%    1019.190000  1019.485000\n",
       "max    1025.880000  1026.150000"
      ]
     },
     "execution_count": 46,
     "metadata": {},
     "output_type": "execute_result"
    }
   ],
   "source": [
    "#Observamos la cantidad de registros para cada coluna, media, desvio estandar, minimos, mximos y perceptiles:\n",
    "\n",
    "#La media de la presion 1 es 1016,58. El desvio standar es 6,96, lo que significa que la mayoria de las mediciones\n",
    "#de la presionA se encuentran entre 1009,62 y 1023,54\n",
    "\n",
    "#La media de la presion 2 es 1016,84.El desvio standar es 7,05, lo que significa que la mayoria de las mediciones\n",
    "#de la presionB se encuentran entre 1009.79 y 1023.89\n",
    "\n",
    "dataset.describe()"
   ]
  },
  {
   "cell_type": "code",
   "execution_count": 47,
   "metadata": {},
   "outputs": [
    {
     "data": {
      "text/plain": [
       "<matplotlib.axes._subplots.AxesSubplot at 0x7f91b5b35b90>"
      ]
     },
     "execution_count": 47,
     "metadata": {},
     "output_type": "execute_result"
    },
    {
     "data": {
      "image/png": "[encoded data removed]",
      "text/plain": [
       "<Figure size 432x288 with 1 Axes>"
      ]
     },
     "metadata": {
      "needs_background": "light"
     },
     "output_type": "display_data"
    }
   ],
   "source": [
    "# Luego obervamos gràficamente ambas variables para corroborar algunos\n",
    "# de estos datos de arriba y verificar su veracidad. Y comprobamos si siguen alguna\n",
    "# distribución en especial (en este caso ninguna). \n",
    "# Ademas como no observamos valores 'erroneos' (por ejemplo si hubiera un 10.000 0 -30) entonces\n",
    "# NO es necesario realizar una limpieza de estos datos. \n",
    "sns.distplot(dataset['Presion 1'])"
   ]
  },
  {
   "cell_type": "code",
   "execution_count": 48,
   "metadata": {},
   "outputs": [
    {
     "data": {
      "text/plain": [
       "<matplotlib.axes._subplots.AxesSubplot at 0x7f91b5a7ea90>"
      ]
     },
     "execution_count": 48,
     "metadata": {},
     "output_type": "execute_result"
    },
    {
     "data": {
      "image/png": "[encoded data removed]",
      "text/plain": [
       "<Figure size 432x288 with 1 Axes>"
      ]
     },
     "metadata": {
      "needs_background": "light"
     },
     "output_type": "display_data"
    }
   ],
   "source": [
    "sns.distplot(dataset['Presion 2'])"
   ]
  },
  {
   "cell_type": "markdown",
   "metadata": {},
   "source": [
    "### Gráficos de Histograma y Dispersión\n"
   ]
  },
  {
   "cell_type": "code",
   "execution_count": 49,
   "metadata": {
    "scrolled": false
   },
   "outputs": [
    {
     "data": {
      "text/plain": [
       "<seaborn.axisgrid.PairGrid at 0x7f91b5a3ce90>"
      ]
     },
     "execution_count": 49,
     "metadata": {},
     "output_type": "execute_result"
    },
    {
     "data": {
      "image/png": "[encoded data removed]",
      "text/plain": [
       "<Figure size 360x360 with 6 Axes>"
      ]
     },
     "metadata": {
      "needs_background": "light"
     },
     "output_type": "display_data"
    }
   ],
   "source": [
    "# Observando los graficos a continuacion (Histograma y dispersiòn)... \n",
    "# vemos que la relacion de La presion 1 en funcion de la Presion 2 y viceversa,\n",
    "# resulta ser una Relación lineal positiva fuerte, indicando de esta manera que \n",
    "# podemos hacer uso del algoritmo de Regresion Lineal.\n",
    "\n",
    "# Los Histogramas muestran la información con respecto a una misma variable.\n",
    "# Los gráficos de Dispersión muestran la relación entre dos variables.\n",
    "\n",
    "sns.pairplot(dataset) "
   ]
  },
  {
   "cell_type": "markdown",
   "metadata": {},
   "source": [
    "### Análisis de Correlación de variables\n"
   ]
  },
  {
   "cell_type": "code",
   "execution_count": 50,
   "metadata": {},
   "outputs": [
    {
     "data": {
      "text/html": [
       "<div>\n",
       "<style scoped>\n",
       "    .dataframe tbody tr th:only-of-type {\n",
       "        vertical-align: middle;\n",
       "    }\n",
       "\n",
       "    .dataframe tbody tr th {\n",
       "        vertical-align: top;\n",
       "    }\n",
       "\n",
       "    .dataframe thead th {\n",
       "        text-align: right;\n",
       "    }\n",
       "</style>\n",
       "<table border=\"1\" class=\"dataframe\">\n",
       "  <thead>\n",
       "    <tr style=\"text-align: right;\">\n",
       "      <th></th>\n",
       "      <th>Presion 1</th>\n",
       "      <th>Presion 2</th>\n",
       "    </tr>\n",
       "  </thead>\n",
       "  <tbody>\n",
       "    <tr>\n",
       "      <th>Presion 1</th>\n",
       "      <td>1.000000</td>\n",
       "      <td>0.999862</td>\n",
       "    </tr>\n",
       "    <tr>\n",
       "      <th>Presion 2</th>\n",
       "      <td>0.999862</td>\n",
       "      <td>1.000000</td>\n",
       "    </tr>\n",
       "  </tbody>\n",
       "</table>\n",
       "</div>"
      ],
      "text/plain": [
       "           Presion 1  Presion 2\n",
       "Presion 1   1.000000   0.999862\n",
       "Presion 2   0.999862   1.000000"
      ]
     },
     "execution_count": 50,
     "metadata": {},
     "output_type": "execute_result"
    }
   ],
   "source": [
    "#Se procede a ver la correlacion entre las variables del modelo, en este caso Presion 1 y Presion 2\n",
    "#Observando el dataframe generado, se puede verificar que P1 en funcion de p2 y P2 en funcion de p1 \n",
    "#0.990.990.99la correlacion es casi 1, representando un 99,9%.\n",
    "pearson_corr = dataset.corr(method='pearson')\n",
    "pearson_corr"
   ]
  },
  {
   "cell_type": "code",
   "execution_count": 51,
   "metadata": {},
   "outputs": [
    {
     "data": {
      "image/png": "[encoded data removed]",
      "text/plain": [
       "<Figure size 720x360 with 1 Axes>"
      ]
     },
     "metadata": {
      "needs_background": "light"
     },
     "output_type": "display_data"
    }
   ],
   "source": [
    "#Nuevamente realizamos el grafico de p1(ps) para obtener un gràfico con mejor visualización.\n",
    "X = dataset[\"Presion 1\"]\n",
    "y = dataset[\"Presion 2\"]\n",
    "\n",
    "#A continuación, Se procede a ver la relacion de las presiones p1(p2) para ver si representa un\n",
    "#comportamiento lineal\n",
    "\n",
    "plt.figure(figsize = (10,5))\n",
    "plt.scatter(X, y, color = 'g')\n",
    "plt.title('Relacion de presiones entre dos puntos')\n",
    "plt.xlabel('Presion 1')\n",
    "plt.ylabel('Presion 2')\n",
    "plt.show()\n",
    "\n",
    "#Efectivamente puede comprobarse que la relacion entre ambos puntos sigue un comportamiento lineal y\n",
    "#la tasa de error es muy baja, ya que la distancia entre ambos puntos es minima"
   ]
  },
  {
   "cell_type": "markdown",
   "metadata": {},
   "source": [
    "### Implementación del Modelo de Regresión Lineal Simple"
   ]
  },
  {
   "cell_type": "code",
   "execution_count": 52,
   "metadata": {},
   "outputs": [],
   "source": [
    "#Como analizamos anteriormente que p1 y p2 tienen una relación lineal y los coeficientes de correlaciòn de p1(p2)\n",
    "# y de p2(p1) nos dieron aprox. 1... entonces procedemos a utilizar el mètodo de regresiòn lineal para poder\n",
    "#PREDECIR la temperatura p2 (nuestro Y) en función de p1 (nuestro X)... asi, cuando nos den un valor de p1 nosotros podremos predecir\n",
    "#el valor en p2 en ese instante de tiempo. \n",
    "\n",
    "# Se reacomodan los valores para usar el modelo LinearRegression()\n",
    "X = X.values.reshape(-1,1)\n",
    "y = y.values.reshape(-1,1)\n",
    "\n",
    "# A continuación se indica que el 30% de los datos serán datos de prueba \n",
    "# y el resto permanece en el conjunto de entrenamiento.\n",
    "X_train, X_test, y_train, y_test = train_test_split(X, y, test_size = 0.3)\n",
    "\n",
    "#Defino el algoritmo a utilizar\n",
    "lr = linear_model.LinearRegression()\n",
    "\n",
    "#Se ajusta al algoritmo\n",
    "lr.fit(X_train, y_train)\n",
    "\n",
    "#Realizo una prediccion con los datos de prueba\n",
    "Y_pred = lr.predict(X_test)"
   ]
  },
  {
   "cell_type": "code",
   "execution_count": 53,
   "metadata": {},
   "outputs": [
    {
     "name": "stdout",
     "output_type": "stream",
     "text": [
      "Datos del modelo de Regresion Lineal Simple\n",
      "\n",
      "Valor de la pendiente o oeficiente 'a': \n",
      "[[1.01344116]]\n",
      "\n",
      "Valor de la interseccion: \n",
      "[-13.40063202]\n",
      "\n",
      "La Ecuacion del modelo es: \n",
      "Y =  1.0134411595335524 X -13.400632017876433\n",
      "\n",
      "Precision del modelo: \n",
      "0.9997450908950407\n"
     ]
    }
   ],
   "source": [
    "#Calculamos los datos de la pendiente o el coeficiente (a) y la interseccion (b) -> y = ax + b\n",
    "print(\"Datos del modelo de Regresion Lineal Simple\")\n",
    "\n",
    "print(\"\\nValor de la pendiente o oeficiente 'a': \")\n",
    "a = lr.coef_\n",
    "print(a)\n",
    "\n",
    "print(\"\\nValor de la interseccion: \")\n",
    "b = lr.intercept_\n",
    "print(b)\n",
    "\n",
    "print(\"\\nLa Ecuacion del modelo es: \")\n",
    "print('Y = ', a[0][0], 'X' ,b[0])\n",
    "\n",
    "print(\"\\nPrecision del modelo: \")\n",
    "print(lr.score(X_train, y_train))\n",
    "#Como la precision del modelo es del 0.99.. casi 1 quiere decir que la prediccion del modelo se comporta \n",
    "#de manera lineal por lo tanto se puede predecir correctamente la variable p1 en funcion de p2. \n"
   ]
  },
  {
   "cell_type": "code",
   "execution_count": 54,
   "metadata": {},
   "outputs": [
    {
     "name": "stdout",
     "output_type": "stream",
     "text": [
      "Error Cuadratico medio (mse):  0.015313515051469669\n"
     ]
    }
   ],
   "source": [
    "from sklearn.metrics import mean_squared_error, mean_absolute_error, r2_score\n",
    "mse = mean_squared_error(y_test, Y_pred)\n",
    "print(\"Error Cuadratico medio (mse): \", mse)\n",
    "rmse = np.sqrt(mse)\n",
    "\n",
    "#Como puede observarse a continuación el error cuadratico medio es del 0.015 casi nulo,\n",
    "#indicando que la diferencia entre ambos puntos es minima dando soporte a las conclusiones arribadas\n",
    "#anteriormente sobre el comporatmiento lineal del modelo"
   ]
  },
  {
   "cell_type": "markdown",
   "metadata": {},
   "source": [
    "### Graficamos los valores reales del entrenamiento y los valores predecidos del entrenamiento"
   ]
  },
  {
   "cell_type": "code",
   "execution_count": 55,
   "metadata": {},
   "outputs": [
    {
     "data": {
      "image/png": "[encoded data removed]",
      "text/plain": [
       "<Figure size 720x360 with 1 Axes>"
      ]
     },
     "metadata": {
      "needs_background": "light"
     },
     "output_type": "display_data"
    }
   ],
   "source": [
    "plt.figure(figsize = (10,5))\n",
    "plt.scatter(X_test, y_test,  color='green', label=\"Datos del Modelo\")\n",
    "plt.plot(X_test, Y_pred, color='red', linewidth=3, label = \"Predicción del modelo\" )\n",
    "plt.title('Regresion Lineal Simple')\n",
    "plt.xlabel('Presiones punto 1')\n",
    "plt.ylabel('Presiones punto 2')\n",
    "plt.legend(loc=\"upper left\")\n",
    "plt.show()"
   ]
  },
  {
   "cell_type": "markdown",
   "metadata": {},
   "source": [
    "### Otra manera de obtener la media / desvio estandar / perceptiles / min y max:"
   ]
  },
  {
   "cell_type": "code",
   "execution_count": 56,
   "metadata": {},
   "outputs": [
    {
     "name": "stdout",
     "output_type": "stream",
     "text": [
      "         Presion 1    Presion 2\n",
      "count   999.000000   999.000000\n",
      "mean   1016.580450  1016.841832\n",
      "std       6.962852     7.058162\n",
      "min    1000.560000  1000.240000\n",
      "25%    1015.375000  1015.685000\n",
      "50%    1017.940000  1018.280000\n",
      "75%    1019.190000  1019.485000\n",
      "max    1025.880000  1026.150000\n"
     ]
    }
   ],
   "source": [
    "#Primero vemos como lo haciamos antes:\n",
    "print(dataset.describe()) "
   ]
  },
  {
   "cell_type": "code",
   "execution_count": 57,
   "metadata": {},
   "outputs": [
    {
     "data": {
      "text/html": [
       "<div>\n",
       "<style scoped>\n",
       "    .dataframe tbody tr th:only-of-type {\n",
       "        vertical-align: middle;\n",
       "    }\n",
       "\n",
       "    .dataframe tbody tr th {\n",
       "        vertical-align: top;\n",
       "    }\n",
       "\n",
       "    .dataframe thead th {\n",
       "        text-align: right;\n",
       "    }\n",
       "</style>\n",
       "<table border=\"1\" class=\"dataframe\">\n",
       "  <thead>\n",
       "    <tr style=\"text-align: right;\">\n",
       "      <th></th>\n",
       "      <th>Presion 1</th>\n",
       "      <th>Presion 2</th>\n",
       "    </tr>\n",
       "  </thead>\n",
       "  <tbody>\n",
       "    <tr>\n",
       "      <th>Presion 1</th>\n",
       "      <td>1.000000</td>\n",
       "      <td>0.999862</td>\n",
       "    </tr>\n",
       "    <tr>\n",
       "      <th>Presion 2</th>\n",
       "      <td>0.999862</td>\n",
       "      <td>1.000000</td>\n",
       "    </tr>\n",
       "  </tbody>\n",
       "</table>\n",
       "</div>"
      ],
      "text/plain": [
       "           Presion 1  Presion 2\n",
       "Presion 1   1.000000   0.999862\n",
       "Presion 2   0.999862   1.000000"
      ]
     },
     "execution_count": 57,
     "metadata": {},
     "output_type": "execute_result"
    }
   ],
   "source": [
    "dataset.corr()    #Como lo hicimos anteriormente"
   ]
  },
  {
   "cell_type": "code",
   "execution_count": 60,
   "metadata": {},
   "outputs": [],
   "source": [
    "#Anteriormente nos dio estos resultados: \n",
    "#Valor de la pendiente o oeficiente 'a': \n",
    "#[[1.01344116]]\n",
    "\n",
    "#Valor de la interseccion: \n",
    "#[-13.40063202]\n",
    "\n",
    "#Abajo los sacamos de otra forma y nos dan practicamente lo mismo."
   ]
  },
  {
   "cell_type": "code",
   "execution_count": 61,
   "metadata": {},
   "outputs": [
    {
     "data": {
      "text/plain": [
       "1.0135484674446622"
      ]
     },
     "execution_count": 61,
     "metadata": {},
     "output_type": "execute_result"
    }
   ],
   "source": [
    "a = (7.058162/6.962852) * 0.999862    # A = (std de p2 / std de p1) * corr de p2(p1)\n",
    "a"
   ]
  },
  {
   "cell_type": "code",
   "execution_count": 62,
   "metadata": {},
   "outputs": [
    {
     "data": {
      "text/plain": [
       "-13.511725131705248"
      ]
     },
     "execution_count": 62,
     "metadata": {},
     "output_type": "execute_result"
    }
   ],
   "source": [
    "b = 1016.841832 - (1016.580450 * a)  #B = std de p2 - (std de p1 * A)\n",
    "b\n"
   ]
  },
  {
   "cell_type": "code",
   "execution_count": 63,
   "metadata": {},
   "outputs": [
    {
     "data": {
      "text/plain": [
       "<matplotlib.collections.PathCollection at 0x7f91b57b1750>"
      ]
     },
     "execution_count": 63,
     "metadata": {},
     "output_type": "execute_result"
    },
    {
     "data": {
      "image/png": "[encoded data removed]",
      "text/plain": [
       "<Figure size 432x288 with 1 Axes>"
      ]
     },
     "metadata": {
      "needs_background": "light"
     },
     "output_type": "display_data"
    }
   ],
   "source": [
    "plt.plot(X_test,a*X_test+b, color='r')  #Graficamos con estos valores.\n",
    "plt.scatter(X_test, y_test)"
   ]
  },
  {
   "cell_type": "code",
   "execution_count": 64,
   "metadata": {},
   "outputs": [
    {
     "data": {
      "text/plain": [
       "0.25    1015.375\n",
       "0.50    1017.940\n",
       "0.75    1019.190\n",
       "Name: Presion 1, dtype: float64"
      ]
     },
     "execution_count": 64,
     "metadata": {},
     "output_type": "execute_result"
    }
   ],
   "source": [
    "# cuartiles\n",
    "dataset['Presion 1'].quantile([.25, .5, .75])"
   ]
  },
  {
   "cell_type": "code",
   "execution_count": null,
   "metadata": {},
   "outputs": [],
   "source": []
  }
 ],
 "metadata": {
  "kernelspec": {
   "display_name": "Python 3",
   "language": "python",
   "name": "python3"
  },
  "language_info": {
   "codemirror_mode": {
    "name": "ipython",
    "version": 3
   },
   "file_extension": ".py",
   "mimetype": "text/x-python",
   "name": "python",
   "nbconvert_exporter": "python",
   "pygments_lexer": "ipython3",
   "version": "3.7.6"
  }
 },
 "nbformat": 4,
 "nbformat_minor": 4
}
