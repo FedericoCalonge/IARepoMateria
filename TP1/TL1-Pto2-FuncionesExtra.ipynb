{
 "cells": [
  {
   "cell_type": "markdown",
   "metadata": {},
   "source": [
    "# <h1 style=\"color:blue\"> Funciones Extra para TL1-Pto2</h1> "
   ]
  },
  {
   "cell_type": "code",
   "execution_count": 5,
   "metadata": {},
   "outputs": [],
   "source": [
    "import pandas as pd\n",
    "import numpy as np\n",
    "import seaborn as sns\n",
    "import matplotlib.pyplot as plt\n",
    "import scipy as sc\n",
    "from sklearn.linear_model import LinearRegression\n",
    "from sklearn.model_selection import train_test_split"
   ]
  },
  {
   "cell_type": "code",
   "execution_count": 6,
   "metadata": {
    "scrolled": false
   },
   "outputs": [],
   "source": [
    "def miFuncion(pais):\n",
    "    url_recovered = \"https://raw.githubusercontent.com/CSSEGISandData/COVID-19/master/csse_covid_19_data/csse_covid_19_time_series/time_series_covid19_recovered_global.csv\"\n",
    "    url_confirmed = \"https://raw.githubusercontent.com/CSSEGISandData/COVID-19/master/csse_covid_19_data/csse_covid_19_time_series/time_series_covid19_confirmed_global.csv\"\n",
    "    url_deaths=\"https://raw.githubusercontent.com/CSSEGISandData/COVID-19/master/csse_covid_19_data/csse_covid_19_time_series/time_series_covid19_deaths_global.csv\"\n",
    "    dataset_recovered = pd.read_csv(url_recovered)\n",
    "    dataset_confirmed = pd.read_csv(url_confirmed)\n",
    "    dataset_deaths = pd.read_csv(url_deaths)\n",
    "\n",
    "    #Filtramos en nuestro DataFram solo las columnas Country/Region = al parametro pais. \n",
    "    df_recovered = dataset_recovered[dataset_recovered['Country/Region']==pais]\n",
    "    df_confirmed = dataset_confirmed[dataset_confirmed['Country/Region']==pais]\n",
    "    df_deaths = dataset_deaths[dataset_deaths['Country/Region']==pais]\n",
    "    \n",
    "    df_recovered=df_recovered[df_recovered.columns[4:]]\n",
    "    df_deaths=df_deaths[df_deaths.columns[4:]]\n",
    "    df_confirmed=df_confirmed[df_confirmed.columns[4:]]\n",
    "    \n",
    "    #Convertimos los datos a diccionario para su manejo:\n",
    "    dic_recovered=df_recovered.to_dict(orient='records')[0]\n",
    "    dic_deaths=df_deaths.to_dict(orient='records')[0]\n",
    "    dic_confirmed=df_confirmed.to_dict(orient='records')[0]\n",
    "\n",
    "    plt.figure(figsize=(20,5))\n",
    "    plt.plot(*zip(*(dic_recovered.items())),color='g')\n",
    "    plt.plot(*zip(*(dic_deaths.items())),color='r')\n",
    "    plt.plot(*zip(*(dic_confirmed.items())),color='b')\n",
    "    plt.xticks(rotation=90)\n",
    "\n",
    "    plt.show()"
   ]
  },
  {
   "cell_type": "code",
   "execution_count": 7,
   "metadata": {},
   "outputs": [],
   "source": [
    "def miTop(numero):\n",
    "    url_recovered = \"https://raw.githubusercontent.com/CSSEGISandData/COVID-19/master/csse_covid_19_data/csse_covid_19_time_series/time_series_covid19_recovered_global.csv\"\n",
    "    url_confirmed = \"https://raw.githubusercontent.com/CSSEGISandData/COVID-19/master/csse_covid_19_data/csse_covid_19_time_series/time_series_covid19_confirmed_global.csv\"\n",
    "    url_deaths=\"https://raw.githubusercontent.com/CSSEGISandData/COVID-19/master/csse_covid_19_data/csse_covid_19_time_series/time_series_covid19_deaths_global.csv\"\n",
    "    dataset_recovered = pd.read_csv(url_recovered)\n",
    "    dataset_confirmed = pd.read_csv(url_confirmed)\n",
    "    dataset_deaths = pd.read_csv(url_deaths)\n",
    "    \n",
    "    df_recovered = dataset_recovered\n",
    "    df_recovered[\"Suma\"] = dataset_recovered[dataset_recovered.columns[-1:]].sum(axis=1)\n",
    "\n",
    "    df_confirmed = dataset_confirmed\n",
    "    df_confirmed[\"Suma\"] = dataset_confirmed[dataset_confirmed.columns[-1:]].sum(axis=1)\n",
    "\n",
    "    df_deaths = dataset_deaths\n",
    "    df_deaths[\"Suma\"] = dataset_deaths[dataset_deaths.columns[-1:]].sum(axis=1)\n",
    "\n",
    "    Top3Recovered = df_recovered.sort_values(by='Suma', ascending=False)[[\"Country/Region\", \"Suma\"]].head(numero)\n",
    "    Top3Confirmed = df_confirmed.sort_values(by='Suma', ascending=False)[[\"Country/Region\", \"Suma\"]].head(numero)\n",
    "    Top3Deaths = df_deaths.sort_values(by='Suma', ascending=False)[[\"Country/Region\", \"Suma\"]].head(numero)\n",
    "    #print(\"prueba\")\n",
    "    #print(Top3Confirmed)\n",
    "    list = Top3Confirmed['Country/Region'].tolist()\n",
    "    #print(list)\n",
    "    return list"
   ]
  },
  {
   "cell_type": "code",
   "execution_count": null,
   "metadata": {},
   "outputs": [],
   "source": []
  }
 ],
 "metadata": {
  "kernelspec": {
   "display_name": "Python 3",
   "language": "python",
   "name": "python3"
  },
  "language_info": {
   "codemirror_mode": {
    "name": "ipython",
    "version": 3
   },
   "file_extension": ".py",
   "mimetype": "text/x-python",
   "name": "python",
   "nbconvert_exporter": "python",
   "pygments_lexer": "ipython3",
   "version": "3.7.6"
  }
 },
 "nbformat": 4,
 "nbformat_minor": 4
}
