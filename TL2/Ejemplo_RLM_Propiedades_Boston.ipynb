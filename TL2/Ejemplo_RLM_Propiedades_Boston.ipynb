{
 "cells": [
  {
   "cell_type": "code",
   "execution_count": 171,
   "metadata": {},
   "outputs": [],
   "source": [
    "#En este ejemplo nuestro Data Set lo cargaremos directamente desde la librería de Python SKLearn. \n",
    "#Es un DS de 506 filas x 13 columnas/variables features que contienen información de propiedades de Boston \n",
    "#(más específicamente Casas). \n",
    "\n",
    "#A partir de algunas de nuestras variables features intentaremos predecir el valor de los precios de las casas \n",
    "#(osea que nuestra variable a predecir “y” serà la variable MEDV) utilizando RLMcon 3 variables \n",
    "#y analizaremos los resultados: ver si se llegó o no a una buena predicción. \n",
    "\n",
    "#Aplicaremos RLM, Regresión de Ridge y Regresión de Lasso para evaluar nuestro modelo y obtener distintos rendimientos\n",
    "# a modo de ejemplo."
   ]
  },
  {
   "cell_type": "markdown",
   "metadata": {},
   "source": [
    "#### 1-Importamos las librerias y cargamos nuestro DS."
   ]
  },
  {
   "cell_type": "code",
   "execution_count": 172,
   "metadata": {},
   "outputs": [],
   "source": [
    "import pandas as pd\n",
    "import numpy as np\n",
    "import sklearn \n",
    "import requests\n",
    "from bs4 import BeautifulSoup\n",
    "#LIbrerias de visualizacion:\n",
    "%matplotlib inline\n",
    "import matplotlib.pyplot as plt\n",
    "import seaborn as sns\n",
    "#Para regresiòn lineal:\n",
    "from sklearn.linear_model import LinearRegression\n",
    "from sklearn.model_selection import train_test_split\n",
    "from sklearn.metrics import mean_squared_error\n",
    "from sklearn.metrics import r2_score\n",
    "\n",
    "from sklearn.linear_model import Lasso\n",
    "from sklearn.linear_model import Ridge\n"
   ]
  },
  {
   "cell_type": "code",
   "execution_count": 173,
   "metadata": {},
   "outputs": [],
   "source": [
    "#Carga de DS:\n",
    "from sklearn import datasets\n",
    "boston = datasets.load_boston()"
   ]
  },
  {
   "cell_type": "code",
   "execution_count": 174,
   "metadata": {},
   "outputs": [
    {
     "data": {
      "text/plain": [
       "sklearn.utils.Bunch"
      ]
     },
     "execution_count": 174,
     "metadata": {},
     "output_type": "execute_result"
    }
   ],
   "source": [
    "type(boston)  #Tipo \"Bunch\" un Container de objetos que expone keys como atributos."
   ]
  },
  {
   "cell_type": "code",
   "execution_count": 175,
   "metadata": {},
   "outputs": [],
   "source": [
    "from sklearn.utils import Bunch"
   ]
  },
  {
   "cell_type": "code",
   "execution_count": 176,
   "metadata": {},
   "outputs": [
    {
     "data": {
      "text/plain": [
       "dict_keys(['data', 'target', 'feature_names', 'DESCR'])"
      ]
     },
     "execution_count": 176,
     "metadata": {},
     "output_type": "execute_result"
    }
   ],
   "source": [
    "#Analizamos el DS:\n",
    "boston.keys()    #Imprimimos las keys"
   ]
  },
  {
   "cell_type": "code",
   "execution_count": 177,
   "metadata": {},
   "outputs": [
    {
     "name": "stdout",
     "output_type": "stream",
     "text": [
      "Boston House Prices dataset\n",
      "===========================\n",
      "\n",
      "Notes\n",
      "------\n",
      "Data Set Characteristics:  \n",
      "\n",
      "    :Number of Instances: 506 \n",
      "\n",
      "    :Number of Attributes: 13 numeric/categorical predictive\n",
      "    \n",
      "    :Median Value (attribute 14) is usually the target\n",
      "\n",
      "    :Attribute Information (in order):\n",
      "        - CRIM     per capita crime rate by town\n",
      "        - ZN       proportion of residential land zoned for lots over 25,000 sq.ft.\n",
      "        - INDUS    proportion of non-retail business acres per town\n",
      "        - CHAS     Charles River dummy variable (= 1 if tract bounds river; 0 otherwise)\n",
      "        - NOX      nitric oxides concentration (parts per 10 million)\n",
      "        - RM       average number of rooms per dwelling\n",
      "        - AGE      proportion of owner-occupied units built prior to 1940\n",
      "        - DIS      weighted distances to five Boston employment centres\n",
      "        - RAD      index of accessibility to radial highways\n",
      "        - TAX      full-value property-tax rate per $10,000\n",
      "        - PTRATIO  pupil-teacher ratio by town\n",
      "        - B        1000(Bk - 0.63)^2 where Bk is the proportion of blacks by town\n",
      "        - LSTAT    % lower status of the population\n",
      "        - MEDV     Median value of owner-occupied homes in $1000's\n",
      "\n",
      "    :Missing Attribute Values: None\n",
      "\n",
      "    :Creator: Harrison, D. and Rubinfeld, D.L.\n",
      "\n",
      "This is a copy of UCI ML housing dataset.\n",
      "http://archive.ics.uci.edu/ml/datasets/Housing\n",
      "\n",
      "\n",
      "This dataset was taken from the StatLib library which is maintained at Carnegie Mellon University.\n",
      "\n",
      "The Boston house-price data of Harrison, D. and Rubinfeld, D.L. 'Hedonic\n",
      "prices and the demand for clean air', J. Environ. Economics & Management,\n",
      "vol.5, 81-102, 1978.   Used in Belsley, Kuh & Welsch, 'Regression diagnostics\n",
      "...', Wiley, 1980.   N.B. Various transformations are used in the table on\n",
      "pages 244-261 of the latter.\n",
      "\n",
      "The Boston house-price data has been used in many machine learning papers that address regression\n",
      "problems.   \n",
      "     \n",
      "**References**\n",
      "\n",
      "   - Belsley, Kuh & Welsch, 'Regression diagnostics: Identifying Influential Data and Sources of Collinearity', Wiley, 1980. 244-261.\n",
      "   - Quinlan,R. (1993). Combining Instance-Based and Model-Based Learning. In Proceedings on the Tenth International Conference of Machine Learning, 236-243, University of Massachusetts, Amherst. Morgan Kaufmann.\n",
      "   - many more! (see http://archive.ics.uci.edu/ml/datasets/Housing)\n",
      "\n"
     ]
    }
   ],
   "source": [
    "#De esta manera tenemos:\n",
    "#data: contiene la info de varias casas (este sería nuestro DF a analizar)\n",
    "#target:  precios de las casas (sería nuestra variable target/a predecir, \"y\")\n",
    "#feature_names: nombres de nuestras features (sería el nombre de nuestras variables predictoras, \"x\")\n",
    "#DESCR: descripción del DS\n",
    "\n",
    "print(boston['DESCR'])"
   ]
  },
  {
   "cell_type": "markdown",
   "metadata": {},
   "source": [
    "#### 2-Creamos el DF con Pandas:"
   ]
  },
  {
   "cell_type": "code",
   "execution_count": 178,
   "metadata": {},
   "outputs": [],
   "source": [
    "VectorDataBoston = boston['data'] #DF para la data (filas).\n",
    "VectorHeadersBoston = boston['feature_names'] #DF para los features."
   ]
  },
  {
   "cell_type": "code",
   "execution_count": 179,
   "metadata": {},
   "outputs": [
    {
     "data": {
      "text/plain": [
       "array([[6.3200e-03, 1.8000e+01, 2.3100e+00, ..., 1.5300e+01, 3.9690e+02,\n",
       "        4.9800e+00],\n",
       "       [2.7310e-02, 0.0000e+00, 7.0700e+00, ..., 1.7800e+01, 3.9690e+02,\n",
       "        9.1400e+00],\n",
       "       [2.7290e-02, 0.0000e+00, 7.0700e+00, ..., 1.7800e+01, 3.9283e+02,\n",
       "        4.0300e+00],\n",
       "       ...,\n",
       "       [6.0760e-02, 0.0000e+00, 1.1930e+01, ..., 2.1000e+01, 3.9690e+02,\n",
       "        5.6400e+00],\n",
       "       [1.0959e-01, 0.0000e+00, 1.1930e+01, ..., 2.1000e+01, 3.9345e+02,\n",
       "        6.4800e+00],\n",
       "       [4.7410e-02, 0.0000e+00, 1.1930e+01, ..., 2.1000e+01, 3.9690e+02,\n",
       "        7.8800e+00]])"
      ]
     },
     "execution_count": 179,
     "metadata": {},
     "output_type": "execute_result"
    }
   ],
   "source": [
    "VectorDataBoston"
   ]
  },
  {
   "cell_type": "code",
   "execution_count": 180,
   "metadata": {},
   "outputs": [
    {
     "data": {
      "text/plain": [
       "(506, 13)"
      ]
     },
     "execution_count": 180,
     "metadata": {},
     "output_type": "execute_result"
    }
   ],
   "source": [
    "VectorDataBoston.shape #506 filas y 13 features/columnas."
   ]
  },
  {
   "cell_type": "code",
   "execution_count": 181,
   "metadata": {},
   "outputs": [
    {
     "data": {
      "text/plain": [
       "array(['CRIM', 'ZN', 'INDUS', 'CHAS', 'NOX', 'RM', 'AGE', 'DIS', 'RAD',\n",
       "       'TAX', 'PTRATIO', 'B', 'LSTAT'], dtype='<U7')"
      ]
     },
     "execution_count": 181,
     "metadata": {},
     "output_type": "execute_result"
    }
   ],
   "source": [
    "VectorHeadersBoston"
   ]
  },
  {
   "cell_type": "code",
   "execution_count": 182,
   "metadata": {},
   "outputs": [
    {
     "data": {
      "text/html": [
       "<div>\n",
       "<style scoped>\n",
       "    .dataframe tbody tr th:only-of-type {\n",
       "        vertical-align: middle;\n",
       "    }\n",
       "\n",
       "    .dataframe tbody tr th {\n",
       "        vertical-align: top;\n",
       "    }\n",
       "\n",
       "    .dataframe thead th {\n",
       "        text-align: right;\n",
       "    }\n",
       "</style>\n",
       "<table border=\"1\" class=\"dataframe\">\n",
       "  <thead>\n",
       "    <tr style=\"text-align: right;\">\n",
       "      <th></th>\n",
       "      <th>CRIM</th>\n",
       "      <th>ZN</th>\n",
       "      <th>INDUS</th>\n",
       "      <th>CHAS</th>\n",
       "      <th>NOX</th>\n",
       "      <th>RM</th>\n",
       "      <th>AGE</th>\n",
       "      <th>DIS</th>\n",
       "      <th>RAD</th>\n",
       "      <th>TAX</th>\n",
       "      <th>PTRATIO</th>\n",
       "      <th>B</th>\n",
       "      <th>LSTAT</th>\n",
       "    </tr>\n",
       "  </thead>\n",
       "  <tbody>\n",
       "    <tr>\n",
       "      <th>0</th>\n",
       "      <td>0.00632</td>\n",
       "      <td>18.0</td>\n",
       "      <td>2.31</td>\n",
       "      <td>0.0</td>\n",
       "      <td>0.538</td>\n",
       "      <td>6.575</td>\n",
       "      <td>65.2</td>\n",
       "      <td>4.0900</td>\n",
       "      <td>1.0</td>\n",
       "      <td>296.0</td>\n",
       "      <td>15.3</td>\n",
       "      <td>396.90</td>\n",
       "      <td>4.98</td>\n",
       "    </tr>\n",
       "    <tr>\n",
       "      <th>1</th>\n",
       "      <td>0.02731</td>\n",
       "      <td>0.0</td>\n",
       "      <td>7.07</td>\n",
       "      <td>0.0</td>\n",
       "      <td>0.469</td>\n",
       "      <td>6.421</td>\n",
       "      <td>78.9</td>\n",
       "      <td>4.9671</td>\n",
       "      <td>2.0</td>\n",
       "      <td>242.0</td>\n",
       "      <td>17.8</td>\n",
       "      <td>396.90</td>\n",
       "      <td>9.14</td>\n",
       "    </tr>\n",
       "    <tr>\n",
       "      <th>2</th>\n",
       "      <td>0.02729</td>\n",
       "      <td>0.0</td>\n",
       "      <td>7.07</td>\n",
       "      <td>0.0</td>\n",
       "      <td>0.469</td>\n",
       "      <td>7.185</td>\n",
       "      <td>61.1</td>\n",
       "      <td>4.9671</td>\n",
       "      <td>2.0</td>\n",
       "      <td>242.0</td>\n",
       "      <td>17.8</td>\n",
       "      <td>392.83</td>\n",
       "      <td>4.03</td>\n",
       "    </tr>\n",
       "    <tr>\n",
       "      <th>3</th>\n",
       "      <td>0.03237</td>\n",
       "      <td>0.0</td>\n",
       "      <td>2.18</td>\n",
       "      <td>0.0</td>\n",
       "      <td>0.458</td>\n",
       "      <td>6.998</td>\n",
       "      <td>45.8</td>\n",
       "      <td>6.0622</td>\n",
       "      <td>3.0</td>\n",
       "      <td>222.0</td>\n",
       "      <td>18.7</td>\n",
       "      <td>394.63</td>\n",
       "      <td>2.94</td>\n",
       "    </tr>\n",
       "    <tr>\n",
       "      <th>4</th>\n",
       "      <td>0.06905</td>\n",
       "      <td>0.0</td>\n",
       "      <td>2.18</td>\n",
       "      <td>0.0</td>\n",
       "      <td>0.458</td>\n",
       "      <td>7.147</td>\n",
       "      <td>54.2</td>\n",
       "      <td>6.0622</td>\n",
       "      <td>3.0</td>\n",
       "      <td>222.0</td>\n",
       "      <td>18.7</td>\n",
       "      <td>396.90</td>\n",
       "      <td>5.33</td>\n",
       "    </tr>\n",
       "  </tbody>\n",
       "</table>\n",
       "</div>"
      ],
      "text/plain": [
       "      CRIM    ZN  INDUS  CHAS    NOX     RM   AGE     DIS  RAD    TAX  \\\n",
       "0  0.00632  18.0   2.31   0.0  0.538  6.575  65.2  4.0900  1.0  296.0   \n",
       "1  0.02731   0.0   7.07   0.0  0.469  6.421  78.9  4.9671  2.0  242.0   \n",
       "2  0.02729   0.0   7.07   0.0  0.469  7.185  61.1  4.9671  2.0  242.0   \n",
       "3  0.03237   0.0   2.18   0.0  0.458  6.998  45.8  6.0622  3.0  222.0   \n",
       "4  0.06905   0.0   2.18   0.0  0.458  7.147  54.2  6.0622  3.0  222.0   \n",
       "\n",
       "   PTRATIO       B  LSTAT  \n",
       "0     15.3  396.90   4.98  \n",
       "1     17.8  396.90   9.14  \n",
       "2     17.8  392.83   4.03  \n",
       "3     18.7  394.63   2.94  \n",
       "4     18.7  396.90   5.33  "
      ]
     },
     "execution_count": 182,
     "metadata": {},
     "output_type": "execute_result"
    }
   ],
   "source": [
    "DFBoston=pd.DataFrame(data=VectorDataBoston, columns=VectorHeadersBoston) #Definimos el DF.\n",
    "DFBoston.head()"
   ]
  },
  {
   "cell_type": "markdown",
   "metadata": {},
   "source": [
    "#### 3-Entendiento la variable target a predecir:"
   ]
  },
  {
   "cell_type": "code",
   "execution_count": 183,
   "metadata": {},
   "outputs": [
    {
     "data": {
      "text/plain": [
       "(506,)"
      ]
     },
     "execution_count": 183,
     "metadata": {},
     "output_type": "execute_result"
    }
   ],
   "source": [
    "ValoresTarget=boston['target'] #Nuestra variable MEDV. \n",
    "ValoresTarget.shape #Son todos los valores para MEDV (506)"
   ]
  },
  {
   "cell_type": "code",
   "execution_count": 184,
   "metadata": {},
   "outputs": [],
   "source": [
    "DFBoston['MEDV']=boston['target'] #Agregamos como columna de nuestro DF a dicha variable."
   ]
  },
  {
   "cell_type": "code",
   "execution_count": 185,
   "metadata": {},
   "outputs": [
    {
     "data": {
      "text/html": [
       "<div>\n",
       "<style scoped>\n",
       "    .dataframe tbody tr th:only-of-type {\n",
       "        vertical-align: middle;\n",
       "    }\n",
       "\n",
       "    .dataframe tbody tr th {\n",
       "        vertical-align: top;\n",
       "    }\n",
       "\n",
       "    .dataframe thead th {\n",
       "        text-align: right;\n",
       "    }\n",
       "</style>\n",
       "<table border=\"1\" class=\"dataframe\">\n",
       "  <thead>\n",
       "    <tr style=\"text-align: right;\">\n",
       "      <th></th>\n",
       "      <th>MEDV</th>\n",
       "      <th>CRIM</th>\n",
       "      <th>ZN</th>\n",
       "      <th>INDUS</th>\n",
       "      <th>CHAS</th>\n",
       "      <th>NOX</th>\n",
       "      <th>RM</th>\n",
       "      <th>AGE</th>\n",
       "      <th>DIS</th>\n",
       "      <th>RAD</th>\n",
       "      <th>TAX</th>\n",
       "      <th>PTRATIO</th>\n",
       "      <th>B</th>\n",
       "      <th>LSTAT</th>\n",
       "    </tr>\n",
       "  </thead>\n",
       "  <tbody>\n",
       "    <tr>\n",
       "      <th>0</th>\n",
       "      <td>24.0</td>\n",
       "      <td>0.00632</td>\n",
       "      <td>18.0</td>\n",
       "      <td>2.31</td>\n",
       "      <td>0.0</td>\n",
       "      <td>0.538</td>\n",
       "      <td>6.575</td>\n",
       "      <td>65.2</td>\n",
       "      <td>4.0900</td>\n",
       "      <td>1.0</td>\n",
       "      <td>296.0</td>\n",
       "      <td>15.3</td>\n",
       "      <td>396.90</td>\n",
       "      <td>4.98</td>\n",
       "    </tr>\n",
       "    <tr>\n",
       "      <th>1</th>\n",
       "      <td>21.6</td>\n",
       "      <td>0.02731</td>\n",
       "      <td>0.0</td>\n",
       "      <td>7.07</td>\n",
       "      <td>0.0</td>\n",
       "      <td>0.469</td>\n",
       "      <td>6.421</td>\n",
       "      <td>78.9</td>\n",
       "      <td>4.9671</td>\n",
       "      <td>2.0</td>\n",
       "      <td>242.0</td>\n",
       "      <td>17.8</td>\n",
       "      <td>396.90</td>\n",
       "      <td>9.14</td>\n",
       "    </tr>\n",
       "    <tr>\n",
       "      <th>2</th>\n",
       "      <td>34.7</td>\n",
       "      <td>0.02729</td>\n",
       "      <td>0.0</td>\n",
       "      <td>7.07</td>\n",
       "      <td>0.0</td>\n",
       "      <td>0.469</td>\n",
       "      <td>7.185</td>\n",
       "      <td>61.1</td>\n",
       "      <td>4.9671</td>\n",
       "      <td>2.0</td>\n",
       "      <td>242.0</td>\n",
       "      <td>17.8</td>\n",
       "      <td>392.83</td>\n",
       "      <td>4.03</td>\n",
       "    </tr>\n",
       "    <tr>\n",
       "      <th>3</th>\n",
       "      <td>33.4</td>\n",
       "      <td>0.03237</td>\n",
       "      <td>0.0</td>\n",
       "      <td>2.18</td>\n",
       "      <td>0.0</td>\n",
       "      <td>0.458</td>\n",
       "      <td>6.998</td>\n",
       "      <td>45.8</td>\n",
       "      <td>6.0622</td>\n",
       "      <td>3.0</td>\n",
       "      <td>222.0</td>\n",
       "      <td>18.7</td>\n",
       "      <td>394.63</td>\n",
       "      <td>2.94</td>\n",
       "    </tr>\n",
       "    <tr>\n",
       "      <th>4</th>\n",
       "      <td>36.2</td>\n",
       "      <td>0.06905</td>\n",
       "      <td>0.0</td>\n",
       "      <td>2.18</td>\n",
       "      <td>0.0</td>\n",
       "      <td>0.458</td>\n",
       "      <td>7.147</td>\n",
       "      <td>54.2</td>\n",
       "      <td>6.0622</td>\n",
       "      <td>3.0</td>\n",
       "      <td>222.0</td>\n",
       "      <td>18.7</td>\n",
       "      <td>396.90</td>\n",
       "      <td>5.33</td>\n",
       "    </tr>\n",
       "  </tbody>\n",
       "</table>\n",
       "</div>"
      ],
      "text/plain": [
       "   MEDV     CRIM    ZN  INDUS  CHAS    NOX     RM   AGE     DIS  RAD    TAX  \\\n",
       "0  24.0  0.00632  18.0   2.31   0.0  0.538  6.575  65.2  4.0900  1.0  296.0   \n",
       "1  21.6  0.02731   0.0   7.07   0.0  0.469  6.421  78.9  4.9671  2.0  242.0   \n",
       "2  34.7  0.02729   0.0   7.07   0.0  0.469  7.185  61.1  4.9671  2.0  242.0   \n",
       "3  33.4  0.03237   0.0   2.18   0.0  0.458  6.998  45.8  6.0622  3.0  222.0   \n",
       "4  36.2  0.06905   0.0   2.18   0.0  0.458  7.147  54.2  6.0622  3.0  222.0   \n",
       "\n",
       "   PTRATIO       B  LSTAT  \n",
       "0     15.3  396.90   4.98  \n",
       "1     17.8  396.90   9.14  \n",
       "2     17.8  392.83   4.03  \n",
       "3     18.7  394.63   2.94  \n",
       "4     18.7  396.90   5.33  "
      ]
     },
     "execution_count": 185,
     "metadata": {},
     "output_type": "execute_result"
    }
   ],
   "source": [
    "#Movemos la variable target al frente de la tabla:\n",
    "Y = DFBoston.MEDV.copy()\n",
    "del DFBoston['MEDV']\n",
    "DFBoston = pd.concat((Y,DFBoston), axis=1)\n",
    "DFBoston.head()"
   ]
  },
  {
   "cell_type": "markdown",
   "metadata": {},
   "source": [
    "#### 4-Limpieza y procesamiento de data:"
   ]
  },
  {
   "cell_type": "code",
   "execution_count": 186,
   "metadata": {},
   "outputs": [
    {
     "data": {
      "text/plain": [
       "MEDV       float64\n",
       "CRIM       float64\n",
       "ZN         float64\n",
       "INDUS      float64\n",
       "CHAS       float64\n",
       "NOX        float64\n",
       "RM         float64\n",
       "AGE        float64\n",
       "DIS        float64\n",
       "RAD        float64\n",
       "TAX        float64\n",
       "PTRATIO    float64\n",
       "B          float64\n",
       "LSTAT      float64\n",
       "dtype: object"
      ]
     },
     "execution_count": 186,
     "metadata": {},
     "output_type": "execute_result"
    }
   ],
   "source": [
    "DFBoston.dtypes #Analizamos los tipos de datos, vemos que son todas variables numéricas / continuas."
   ]
  },
  {
   "cell_type": "code",
   "execution_count": 187,
   "metadata": {},
   "outputs": [
    {
     "data": {
      "text/plain": [
       "MEDV       0\n",
       "CRIM       0\n",
       "ZN         0\n",
       "INDUS      0\n",
       "CHAS       0\n",
       "NOX        0\n",
       "RM         0\n",
       "AGE        0\n",
       "DIS        0\n",
       "RAD        0\n",
       "TAX        0\n",
       "PTRATIO    0\n",
       "B          0\n",
       "LSTAT      0\n",
       "dtype: int64"
      ]
     },
     "execution_count": 187,
     "metadata": {},
     "output_type": "execute_result"
    }
   ],
   "source": [
    "DFBoston.isnull().sum() #Luego de cargar la data una buena practica es observar si\n",
    "                        #hay valores perdidos o nulos (NaN) en nuestra data. Contamos el valor de nulos para cada feature.\n",
    "                        #Pero vemos que no tenemos ningún NaN, entonces no hacemos nada, es correcto."
   ]
  },
  {
   "cell_type": "markdown",
   "metadata": {},
   "source": [
    "#### 5-Realizamos una exploración y analisis estadístico de nuestros datos:"
   ]
  },
  {
   "cell_type": "code",
   "execution_count": 188,
   "metadata": {},
   "outputs": [
    {
     "name": "stderr",
     "output_type": "stream",
     "text": [
      "C:\\Program Files (x86)\\Microsoft Visual Studio\\Shared\\Anaconda3_64\\lib\\site-packages\\matplotlib\\axes\\_axes.py:6462: UserWarning: The 'normed' kwarg is deprecated, and has been replaced by the 'density' kwarg.\n",
      "  warnings.warn(\"The 'normed' kwarg is deprecated, and has been \"\n"
     ]
    },
    {
     "data": {
      "image/png": "[encoded data removed]",
      "text/plain": [
       "<Figure size 842.4x595.44 with 1 Axes>"
      ]
     },
     "metadata": {},
     "output_type": "display_data"
    }
   ],
   "source": [
    "#El analisis exploratorio de data es muy importante antes de realizar el modelo de entranamiento.\n",
    "#En esta sección usaremos visualizaciones para entender la relación de la variable target con las demás variables feature.\n",
    "\n",
    "#Primero vamos a plotear la variable MEDV mediante distplot de la librería seabord:\n",
    "\n",
    "sns.set(rc={'figure.figsize':(11.7,8.27)})\n",
    "sns.distplot(DFBoston['MEDV'], bins=30)\n",
    "plt.show()"
   ]
  },
  {
   "cell_type": "code",
   "execution_count": 189,
   "metadata": {},
   "outputs": [],
   "source": [
    "#En el gráfico de MEDV vemos que tiene una distribución normal (aproximada).\n",
    "\n",
    "#Ahora eliminamos 4 features que no nos parecen de tanta importancia para predecir MEDV:\n",
    "#(igualmente lo recomendable es analizar las relación entre las variables y ver que variable en función de cual\n",
    "#sigue una relación lineal: mediante histograma,s y eliminar las que no siguen este tipo de relación lineal)\n",
    "#Y luego verificariamos esto con la matriz de correlación observando los coeficientes de Pearson.  \n",
    "for col in ['ZN','NOX', 'PTRATIO', 'B']:\n",
    "    del DFBoston[col]\n",
    "\n",
    "#Otra forma de asignar solo las columnas que queremos a un nuevo DF:\n",
    "    #cols=['RM','AGE','TAX','LSTAT','MEDV']\n",
    "    #NewDFBoston=DFBoston[cols]\n",
    "    #NewDFBoston.head()"
   ]
  },
  {
   "cell_type": "code",
   "execution_count": 190,
   "metadata": {},
   "outputs": [
    {
     "data": {
      "text/html": [
       "<div>\n",
       "<style scoped>\n",
       "    .dataframe tbody tr th:only-of-type {\n",
       "        vertical-align: middle;\n",
       "    }\n",
       "\n",
       "    .dataframe tbody tr th {\n",
       "        vertical-align: top;\n",
       "    }\n",
       "\n",
       "    .dataframe thead th {\n",
       "        text-align: right;\n",
       "    }\n",
       "</style>\n",
       "<table border=\"1\" class=\"dataframe\">\n",
       "  <thead>\n",
       "    <tr style=\"text-align: right;\">\n",
       "      <th></th>\n",
       "      <th>MEDV</th>\n",
       "      <th>CRIM</th>\n",
       "      <th>INDUS</th>\n",
       "      <th>CHAS</th>\n",
       "      <th>RM</th>\n",
       "      <th>AGE</th>\n",
       "      <th>DIS</th>\n",
       "      <th>RAD</th>\n",
       "      <th>TAX</th>\n",
       "      <th>LSTAT</th>\n",
       "    </tr>\n",
       "  </thead>\n",
       "  <tbody>\n",
       "    <tr>\n",
       "      <th>0</th>\n",
       "      <td>24.0</td>\n",
       "      <td>0.00632</td>\n",
       "      <td>2.31</td>\n",
       "      <td>0.0</td>\n",
       "      <td>6.575</td>\n",
       "      <td>65.2</td>\n",
       "      <td>4.0900</td>\n",
       "      <td>1.0</td>\n",
       "      <td>296.0</td>\n",
       "      <td>4.98</td>\n",
       "    </tr>\n",
       "    <tr>\n",
       "      <th>1</th>\n",
       "      <td>21.6</td>\n",
       "      <td>0.02731</td>\n",
       "      <td>7.07</td>\n",
       "      <td>0.0</td>\n",
       "      <td>6.421</td>\n",
       "      <td>78.9</td>\n",
       "      <td>4.9671</td>\n",
       "      <td>2.0</td>\n",
       "      <td>242.0</td>\n",
       "      <td>9.14</td>\n",
       "    </tr>\n",
       "    <tr>\n",
       "      <th>2</th>\n",
       "      <td>34.7</td>\n",
       "      <td>0.02729</td>\n",
       "      <td>7.07</td>\n",
       "      <td>0.0</td>\n",
       "      <td>7.185</td>\n",
       "      <td>61.1</td>\n",
       "      <td>4.9671</td>\n",
       "      <td>2.0</td>\n",
       "      <td>242.0</td>\n",
       "      <td>4.03</td>\n",
       "    </tr>\n",
       "    <tr>\n",
       "      <th>3</th>\n",
       "      <td>33.4</td>\n",
       "      <td>0.03237</td>\n",
       "      <td>2.18</td>\n",
       "      <td>0.0</td>\n",
       "      <td>6.998</td>\n",
       "      <td>45.8</td>\n",
       "      <td>6.0622</td>\n",
       "      <td>3.0</td>\n",
       "      <td>222.0</td>\n",
       "      <td>2.94</td>\n",
       "    </tr>\n",
       "    <tr>\n",
       "      <th>4</th>\n",
       "      <td>36.2</td>\n",
       "      <td>0.06905</td>\n",
       "      <td>2.18</td>\n",
       "      <td>0.0</td>\n",
       "      <td>7.147</td>\n",
       "      <td>54.2</td>\n",
       "      <td>6.0622</td>\n",
       "      <td>3.0</td>\n",
       "      <td>222.0</td>\n",
       "      <td>5.33</td>\n",
       "    </tr>\n",
       "  </tbody>\n",
       "</table>\n",
       "</div>"
      ],
      "text/plain": [
       "   MEDV     CRIM  INDUS  CHAS     RM   AGE     DIS  RAD    TAX  LSTAT\n",
       "0  24.0  0.00632   2.31   0.0  6.575  65.2  4.0900  1.0  296.0   4.98\n",
       "1  21.6  0.02731   7.07   0.0  6.421  78.9  4.9671  2.0  242.0   9.14\n",
       "2  34.7  0.02729   7.07   0.0  7.185  61.1  4.9671  2.0  242.0   4.03\n",
       "3  33.4  0.03237   2.18   0.0  6.998  45.8  6.0622  3.0  222.0   2.94\n",
       "4  36.2  0.06905   2.18   0.0  7.147  54.2  6.0622  3.0  222.0   5.33"
      ]
     },
     "execution_count": 190,
     "metadata": {},
     "output_type": "execute_result"
    }
   ],
   "source": [
    "DFBoston.head() #Printeamos el DF con estas features eliminadas."
   ]
  },
  {
   "cell_type": "code",
   "execution_count": 191,
   "metadata": {},
   "outputs": [
    {
     "data": {
      "text/html": [
       "<div>\n",
       "<style scoped>\n",
       "    .dataframe tbody tr th:only-of-type {\n",
       "        vertical-align: middle;\n",
       "    }\n",
       "\n",
       "    .dataframe tbody tr th {\n",
       "        vertical-align: top;\n",
       "    }\n",
       "\n",
       "    .dataframe thead th {\n",
       "        text-align: right;\n",
       "    }\n",
       "</style>\n",
       "<table border=\"1\" class=\"dataframe\">\n",
       "  <thead>\n",
       "    <tr style=\"text-align: right;\">\n",
       "      <th></th>\n",
       "      <th>MEDV</th>\n",
       "      <th>CRIM</th>\n",
       "      <th>INDUS</th>\n",
       "      <th>CHAS</th>\n",
       "      <th>RM</th>\n",
       "      <th>AGE</th>\n",
       "      <th>DIS</th>\n",
       "      <th>RAD</th>\n",
       "      <th>TAX</th>\n",
       "      <th>LSTAT</th>\n",
       "    </tr>\n",
       "  </thead>\n",
       "  <tbody>\n",
       "    <tr>\n",
       "      <th>count</th>\n",
       "      <td>506.000000</td>\n",
       "      <td>506.000000</td>\n",
       "      <td>506.000000</td>\n",
       "      <td>506.000000</td>\n",
       "      <td>506.000000</td>\n",
       "      <td>506.000000</td>\n",
       "      <td>506.000000</td>\n",
       "      <td>506.000000</td>\n",
       "      <td>506.000000</td>\n",
       "      <td>506.000000</td>\n",
       "    </tr>\n",
       "    <tr>\n",
       "      <th>mean</th>\n",
       "      <td>22.532806</td>\n",
       "      <td>3.593761</td>\n",
       "      <td>11.136779</td>\n",
       "      <td>0.069170</td>\n",
       "      <td>6.284634</td>\n",
       "      <td>68.574901</td>\n",
       "      <td>3.795043</td>\n",
       "      <td>9.549407</td>\n",
       "      <td>408.237154</td>\n",
       "      <td>12.653063</td>\n",
       "    </tr>\n",
       "    <tr>\n",
       "      <th>std</th>\n",
       "      <td>9.197104</td>\n",
       "      <td>8.596783</td>\n",
       "      <td>6.860353</td>\n",
       "      <td>0.253994</td>\n",
       "      <td>0.702617</td>\n",
       "      <td>28.148861</td>\n",
       "      <td>2.105710</td>\n",
       "      <td>8.707259</td>\n",
       "      <td>168.537116</td>\n",
       "      <td>7.141062</td>\n",
       "    </tr>\n",
       "    <tr>\n",
       "      <th>min</th>\n",
       "      <td>5.000000</td>\n",
       "      <td>0.006320</td>\n",
       "      <td>0.460000</td>\n",
       "      <td>0.000000</td>\n",
       "      <td>3.561000</td>\n",
       "      <td>2.900000</td>\n",
       "      <td>1.129600</td>\n",
       "      <td>1.000000</td>\n",
       "      <td>187.000000</td>\n",
       "      <td>1.730000</td>\n",
       "    </tr>\n",
       "    <tr>\n",
       "      <th>25%</th>\n",
       "      <td>17.025000</td>\n",
       "      <td>0.082045</td>\n",
       "      <td>5.190000</td>\n",
       "      <td>0.000000</td>\n",
       "      <td>5.885500</td>\n",
       "      <td>45.025000</td>\n",
       "      <td>2.100175</td>\n",
       "      <td>4.000000</td>\n",
       "      <td>279.000000</td>\n",
       "      <td>6.950000</td>\n",
       "    </tr>\n",
       "    <tr>\n",
       "      <th>50%</th>\n",
       "      <td>21.200000</td>\n",
       "      <td>0.256510</td>\n",
       "      <td>9.690000</td>\n",
       "      <td>0.000000</td>\n",
       "      <td>6.208500</td>\n",
       "      <td>77.500000</td>\n",
       "      <td>3.207450</td>\n",
       "      <td>5.000000</td>\n",
       "      <td>330.000000</td>\n",
       "      <td>11.360000</td>\n",
       "    </tr>\n",
       "    <tr>\n",
       "      <th>75%</th>\n",
       "      <td>25.000000</td>\n",
       "      <td>3.647423</td>\n",
       "      <td>18.100000</td>\n",
       "      <td>0.000000</td>\n",
       "      <td>6.623500</td>\n",
       "      <td>94.075000</td>\n",
       "      <td>5.188425</td>\n",
       "      <td>24.000000</td>\n",
       "      <td>666.000000</td>\n",
       "      <td>16.955000</td>\n",
       "    </tr>\n",
       "    <tr>\n",
       "      <th>max</th>\n",
       "      <td>50.000000</td>\n",
       "      <td>88.976200</td>\n",
       "      <td>27.740000</td>\n",
       "      <td>1.000000</td>\n",
       "      <td>8.780000</td>\n",
       "      <td>100.000000</td>\n",
       "      <td>12.126500</td>\n",
       "      <td>24.000000</td>\n",
       "      <td>711.000000</td>\n",
       "      <td>37.970000</td>\n",
       "    </tr>\n",
       "  </tbody>\n",
       "</table>\n",
       "</div>"
      ],
      "text/plain": [
       "             MEDV        CRIM       INDUS        CHAS          RM         AGE  \\\n",
       "count  506.000000  506.000000  506.000000  506.000000  506.000000  506.000000   \n",
       "mean    22.532806    3.593761   11.136779    0.069170    6.284634   68.574901   \n",
       "std      9.197104    8.596783    6.860353    0.253994    0.702617   28.148861   \n",
       "min      5.000000    0.006320    0.460000    0.000000    3.561000    2.900000   \n",
       "25%     17.025000    0.082045    5.190000    0.000000    5.885500   45.025000   \n",
       "50%     21.200000    0.256510    9.690000    0.000000    6.208500   77.500000   \n",
       "75%     25.000000    3.647423   18.100000    0.000000    6.623500   94.075000   \n",
       "max     50.000000   88.976200   27.740000    1.000000    8.780000  100.000000   \n",
       "\n",
       "              DIS         RAD         TAX       LSTAT  \n",
       "count  506.000000  506.000000  506.000000  506.000000  \n",
       "mean     3.795043    9.549407  408.237154   12.653063  \n",
       "std      2.105710    8.707259  168.537116    7.141062  \n",
       "min      1.129600    1.000000  187.000000    1.730000  \n",
       "25%      2.100175    4.000000  279.000000    6.950000  \n",
       "50%      3.207450    5.000000  330.000000   11.360000  \n",
       "75%      5.188425   24.000000  666.000000   16.955000  \n",
       "max     12.126500   24.000000  711.000000   37.970000  "
      ]
     },
     "execution_count": 191,
     "metadata": {},
     "output_type": "execute_result"
    }
   ],
   "source": [
    "#Vemos datos estadistitocs de las variables:\n",
    "DFBoston.describe()  #Media, min, max.\n",
    "#DFBoston.describe().T --> es para trasponer la matriz y poner columnas en filas y filas en columnas. \n",
    "#Observamos que la media de los precios es de 22,5 mil dólares (variable target MEDV)\n",
    "#La propiedad más barata cuesta 5 mil dólares y la más cara 50 mil dólares."
   ]
  },
  {
   "cell_type": "code",
   "execution_count": 192,
   "metadata": {},
   "outputs": [
    {
     "data": {
      "text/html": [
       "<div>\n",
       "<style scoped>\n",
       "    .dataframe tbody tr th:only-of-type {\n",
       "        vertical-align: middle;\n",
       "    }\n",
       "\n",
       "    .dataframe tbody tr th {\n",
       "        vertical-align: top;\n",
       "    }\n",
       "\n",
       "    .dataframe thead th {\n",
       "        text-align: right;\n",
       "    }\n",
       "</style>\n",
       "<table border=\"1\" class=\"dataframe\">\n",
       "  <thead>\n",
       "    <tr style=\"text-align: right;\">\n",
       "      <th></th>\n",
       "      <th>MEDV</th>\n",
       "      <th>CRIM</th>\n",
       "      <th>INDUS</th>\n",
       "      <th>CHAS</th>\n",
       "      <th>RM</th>\n",
       "      <th>AGE</th>\n",
       "      <th>DIS</th>\n",
       "      <th>RAD</th>\n",
       "      <th>TAX</th>\n",
       "      <th>LSTAT</th>\n",
       "    </tr>\n",
       "  </thead>\n",
       "  <tbody>\n",
       "    <tr>\n",
       "      <th>MEDV</th>\n",
       "      <td>1.000000</td>\n",
       "      <td>-0.385832</td>\n",
       "      <td>-0.483725</td>\n",
       "      <td>0.175260</td>\n",
       "      <td>0.695360</td>\n",
       "      <td>-0.376955</td>\n",
       "      <td>0.249929</td>\n",
       "      <td>-0.381626</td>\n",
       "      <td>-0.468536</td>\n",
       "      <td>-0.737663</td>\n",
       "    </tr>\n",
       "    <tr>\n",
       "      <th>CRIM</th>\n",
       "      <td>-0.385832</td>\n",
       "      <td>1.000000</td>\n",
       "      <td>0.404471</td>\n",
       "      <td>-0.055295</td>\n",
       "      <td>-0.219940</td>\n",
       "      <td>0.350784</td>\n",
       "      <td>-0.377904</td>\n",
       "      <td>0.622029</td>\n",
       "      <td>0.579564</td>\n",
       "      <td>0.452220</td>\n",
       "    </tr>\n",
       "    <tr>\n",
       "      <th>INDUS</th>\n",
       "      <td>-0.483725</td>\n",
       "      <td>0.404471</td>\n",
       "      <td>1.000000</td>\n",
       "      <td>0.062938</td>\n",
       "      <td>-0.391676</td>\n",
       "      <td>0.644779</td>\n",
       "      <td>-0.708027</td>\n",
       "      <td>0.595129</td>\n",
       "      <td>0.720760</td>\n",
       "      <td>0.603800</td>\n",
       "    </tr>\n",
       "    <tr>\n",
       "      <th>CHAS</th>\n",
       "      <td>0.175260</td>\n",
       "      <td>-0.055295</td>\n",
       "      <td>0.062938</td>\n",
       "      <td>1.000000</td>\n",
       "      <td>0.091251</td>\n",
       "      <td>0.086518</td>\n",
       "      <td>-0.099176</td>\n",
       "      <td>-0.007368</td>\n",
       "      <td>-0.035587</td>\n",
       "      <td>-0.053929</td>\n",
       "    </tr>\n",
       "    <tr>\n",
       "      <th>RM</th>\n",
       "      <td>0.695360</td>\n",
       "      <td>-0.219940</td>\n",
       "      <td>-0.391676</td>\n",
       "      <td>0.091251</td>\n",
       "      <td>1.000000</td>\n",
       "      <td>-0.240265</td>\n",
       "      <td>0.205246</td>\n",
       "      <td>-0.209847</td>\n",
       "      <td>-0.292048</td>\n",
       "      <td>-0.613808</td>\n",
       "    </tr>\n",
       "    <tr>\n",
       "      <th>AGE</th>\n",
       "      <td>-0.376955</td>\n",
       "      <td>0.350784</td>\n",
       "      <td>0.644779</td>\n",
       "      <td>0.086518</td>\n",
       "      <td>-0.240265</td>\n",
       "      <td>1.000000</td>\n",
       "      <td>-0.747881</td>\n",
       "      <td>0.456022</td>\n",
       "      <td>0.506456</td>\n",
       "      <td>0.602339</td>\n",
       "    </tr>\n",
       "    <tr>\n",
       "      <th>DIS</th>\n",
       "      <td>0.249929</td>\n",
       "      <td>-0.377904</td>\n",
       "      <td>-0.708027</td>\n",
       "      <td>-0.099176</td>\n",
       "      <td>0.205246</td>\n",
       "      <td>-0.747881</td>\n",
       "      <td>1.000000</td>\n",
       "      <td>-0.494588</td>\n",
       "      <td>-0.534432</td>\n",
       "      <td>-0.496996</td>\n",
       "    </tr>\n",
       "    <tr>\n",
       "      <th>RAD</th>\n",
       "      <td>-0.381626</td>\n",
       "      <td>0.622029</td>\n",
       "      <td>0.595129</td>\n",
       "      <td>-0.007368</td>\n",
       "      <td>-0.209847</td>\n",
       "      <td>0.456022</td>\n",
       "      <td>-0.494588</td>\n",
       "      <td>1.000000</td>\n",
       "      <td>0.910228</td>\n",
       "      <td>0.488676</td>\n",
       "    </tr>\n",
       "    <tr>\n",
       "      <th>TAX</th>\n",
       "      <td>-0.468536</td>\n",
       "      <td>0.579564</td>\n",
       "      <td>0.720760</td>\n",
       "      <td>-0.035587</td>\n",
       "      <td>-0.292048</td>\n",
       "      <td>0.506456</td>\n",
       "      <td>-0.534432</td>\n",
       "      <td>0.910228</td>\n",
       "      <td>1.000000</td>\n",
       "      <td>0.543993</td>\n",
       "    </tr>\n",
       "    <tr>\n",
       "      <th>LSTAT</th>\n",
       "      <td>-0.737663</td>\n",
       "      <td>0.452220</td>\n",
       "      <td>0.603800</td>\n",
       "      <td>-0.053929</td>\n",
       "      <td>-0.613808</td>\n",
       "      <td>0.602339</td>\n",
       "      <td>-0.496996</td>\n",
       "      <td>0.488676</td>\n",
       "      <td>0.543993</td>\n",
       "      <td>1.000000</td>\n",
       "    </tr>\n",
       "  </tbody>\n",
       "</table>\n",
       "</div>"
      ],
      "text/plain": [
       "           MEDV      CRIM     INDUS      CHAS        RM       AGE       DIS  \\\n",
       "MEDV   1.000000 -0.385832 -0.483725  0.175260  0.695360 -0.376955  0.249929   \n",
       "CRIM  -0.385832  1.000000  0.404471 -0.055295 -0.219940  0.350784 -0.377904   \n",
       "INDUS -0.483725  0.404471  1.000000  0.062938 -0.391676  0.644779 -0.708027   \n",
       "CHAS   0.175260 -0.055295  0.062938  1.000000  0.091251  0.086518 -0.099176   \n",
       "RM     0.695360 -0.219940 -0.391676  0.091251  1.000000 -0.240265  0.205246   \n",
       "AGE   -0.376955  0.350784  0.644779  0.086518 -0.240265  1.000000 -0.747881   \n",
       "DIS    0.249929 -0.377904 -0.708027 -0.099176  0.205246 -0.747881  1.000000   \n",
       "RAD   -0.381626  0.622029  0.595129 -0.007368 -0.209847  0.456022 -0.494588   \n",
       "TAX   -0.468536  0.579564  0.720760 -0.035587 -0.292048  0.506456 -0.534432   \n",
       "LSTAT -0.737663  0.452220  0.603800 -0.053929 -0.613808  0.602339 -0.496996   \n",
       "\n",
       "            RAD       TAX     LSTAT  \n",
       "MEDV  -0.381626 -0.468536 -0.737663  \n",
       "CRIM   0.622029  0.579564  0.452220  \n",
       "INDUS  0.595129  0.720760  0.603800  \n",
       "CHAS  -0.007368 -0.035587 -0.053929  \n",
       "RM    -0.209847 -0.292048 -0.613808  \n",
       "AGE    0.456022  0.506456  0.602339  \n",
       "DIS   -0.494588 -0.534432 -0.496996  \n",
       "RAD    1.000000  0.910228  0.488676  \n",
       "TAX    0.910228  1.000000  0.543993  \n",
       "LSTAT  0.488676  0.543993  1.000000  "
      ]
     },
     "execution_count": 192,
     "metadata": {},
     "output_type": "execute_result"
    }
   ],
   "source": [
    "#Ahora analizamos la matriz de correlación para ver el coeficiente de Pearson / correlación entre las variables\n",
    "#y de esta manera ver si es posible utilizar un algoritmo de RL para las predicciones. \n",
    "DFBoston.corr(method='pearson')"
   ]
  },
  {
   "cell_type": "code",
   "execution_count": 193,
   "metadata": {},
   "outputs": [
    {
     "data": {
      "image/png": "[encoded data removed]",
      "text/plain": [
       "<Figure size 842.4x595.44 with 2 Axes>"
      ]
     },
     "metadata": {},
     "output_type": "display_data"
    }
   ],
   "source": [
    "#Para verlo mejor más gráficamente, visualizamos esta misma matriz en forma de gráfico de \"Mapa de Calor\":\n",
    "#Donde el violeta más oscuro representa un mayor coeficiente de Pearson NEGATIVO.\n",
    "#Y donde el naranja más claro representa un mayor coeficiente de Pearson POSITIVO.\n",
    "\n",
    "correlation_matrix = DFBoston.corr(method='pearson').round(2)\n",
    "sns.heatmap(data=correlation_matrix, annot=True) #funcion heatmap de la libreria seaborn.\n",
    "#Otro parametro que le puedo agregar a la funcion heatmap (para hacer todo de un mismo color): cmap=sns.cubehelix_palette(50, light=0.95,dark=0.15))\n",
    "\n",
    "plt.savefig('Figures/HeatMapHoustonHousing.png',   #Guardamos esta imagen.\n",
    "           bbox_inches='tight', dpi=300)\n",
    "\n",
    "#Observamos en la columna (o fila) MEDV (nuestra variable a predecir) los valores para las relaciones con las demás features...\n",
    "#Y vemos que tiene una corelación lineal positiva \"alta\" con RM (de 0,7) y una correlación lineal negativa \"alta\" con LSTAT (de -0,74)."
   ]
  },
  {
   "cell_type": "code",
   "execution_count": 194,
   "metadata": {},
   "outputs": [
    {
     "data": {
      "text/plain": [
       "<seaborn.axisgrid.PairGrid at 0x1e0114ef400>"
      ]
     },
     "execution_count": 194,
     "metadata": {},
     "output_type": "execute_result"
    },
    {
     "data": {
      "image/png": "[encoded data removed]",
      "text/plain": [
       "<Figure size 540x540 with 12 Axes>"
      ]
     },
     "metadata": {},
     "output_type": "display_data"
    }
   ],
   "source": [
    "#Verificamos este factor de correlación viendo los histogramas para las relaciones entre MEDV, LSTAT y RM.\n",
    "#y verificar que la matriz dé valores correctos y los gráficos se parescan a \"algo lineal\"):\n",
    "\n",
    "#Creamos un nuevo DM solo para mostrar la relación entre estas 3 variables:\n",
    "cols=['MEDV','LSTAT','RM']\n",
    "DFMuestra=DFBoston[cols]\n",
    "\n",
    "sns.pairplot(DFMuestra, \n",
    "             plot_kws={'alpha':0.6}, #Solo para visualizar mejor el gráfico. \n",
    "             diag_kws={'bins':30})   #Solo para visualizar mejor el gráfico. \n",
    "\n",
    "#Y observamos que, como marca la matriz anterior, hay una relación levemente lieneal POSITIVA entre RM y MEDV.\n",
    "#Y tambien vemos que hay una relación levemente lineal NEGATIVA entre MEDV y LSTAT."
   ]
  },
  {
   "cell_type": "code",
   "execution_count": 195,
   "metadata": {},
   "outputs": [
    {
     "data": {
      "image/png": "[encoded data removed]",
      "text/plain": [
       "<Figure size 1440x360 with 2 Axes>"
      ]
     },
     "metadata": {},
     "output_type": "display_data"
    }
   ],
   "source": [
    "#Ahora si, realizaremos un analisis predictivo mediante un modelo de REgresiòn Lineal.\n",
    "#Como vimos anteriormente utilizaremos las variables / features RM y LSTAT\n",
    "#(que tienen una relación \"lineal\" / mayor correlación con MEDV, nuestra variable target).\n",
    "#Ya que para entrenar nuestro modelo de RL necesitamos feautures que tengan alta correlación con MEDV.\n",
    "\n",
    "#Para seleccionar las variables feature para un modelo de RLM debemos tener en cuenta tambien la MULTICOLINEALIDAD. \n",
    "#La multicolinealidad hace referencia a la correlación lineal entre mis variables predictoras (en este caso LSTAT y RM).\n",
    "#Si existe una relación lineal fuerte / un factor de correlación grande entre nuestras variables predictoras, nuestro\n",
    "#modelo seguramente predecirá mal. \n",
    "#Pero, para nuestro caso NO se cumple esto, ya que tienen un factor de correlación de -0,61 (no es muy alto). De esta manera\n",
    "#NO nos afectará la MULTICOLINEALIDAD.\n",
    "#Distinto hubiera sido si hubiesemos visto que MEDV tiene una correlación grande con RAD y TAX. Ya que ahi si, como \n",
    "#TAX y RAD entre si estan fuertemente correlacionados (factor de 0,91) nos afectaría la MULTICOLINEALIDAD. Tambien ocurriría\n",
    "#lo mismo para DIG y AGE (correlación de -0,75).\n",
    "\n",
    "#VER ESTO PARA ENTENDER LA MULTICOLINEALIDAD. --> https://stats.stackexchange.com/questions/1149/is-there-an-intuitive-explanation-why-multicollinearity-is-a-problem-in-linear-r/1150#1150\n",
    "\n",
    "#Primero graficamos LSTAT y RM en función de MEDV (los mismos gráficos que hicimos arriba, pero solo 2, para mayor claridad)\n",
    "\n",
    "plt.figure(figsize=(20, 5))\n",
    "\n",
    "features = ['LSTAT', 'RM']\n",
    "target = DFBoston['MEDV']\n",
    "\n",
    "for i, col in enumerate(features):\n",
    "    plt.subplot(1, len(features) , i+1)\n",
    "    x = DFBoston[col]\n",
    "    y = target\n",
    "    plt.scatter(x, y, marker='o')\n",
    "    plt.title(col)\n",
    "    plt.xlabel(col)\n",
    "    plt.ylabel('MEDV')\n",
    "\n",
    "#De esta manera tenemos MEDV(LSTAT) y MEDV(RM) --> 1er y 2do gráfico. "
   ]
  },
  {
   "cell_type": "code",
   "execution_count": 196,
   "metadata": {},
   "outputs": [],
   "source": [
    "#Observaciones:\n",
    "    #Podemos ver que los valores de RM incrementan linealmente (a mayor RM, mayor es MEDV)\n",
    "    #Y además, podemos ver que los precios tienden a decrementar cuando LSTAT incrementa. "
   ]
  },
  {
   "cell_type": "markdown",
   "metadata": {},
   "source": [
    "##### 6-Regresión Lineal Múltiple. "
   ]
  },
  {
   "cell_type": "code",
   "execution_count": 197,
   "metadata": {},
   "outputs": [],
   "source": [
    "# Primero preparamos la data para usar RLM:\n",
    "\n",
    "#Concatenamos las columnas LSTAT y RM usando np.c_ (de la libreria numpy):\n",
    "X = pd.DataFrame(np.c_[DFBoston['LSTAT'], DFBoston['RM']], columns = ['LSTAT','RM'])\n",
    "Y = DFBoston['MEDV']"
   ]
  },
  {
   "cell_type": "code",
   "execution_count": 198,
   "metadata": {},
   "outputs": [
    {
     "name": "stdout",
     "output_type": "stream",
     "text": [
      "(404, 2)\n",
      "(102, 2)\n",
      "(404,)\n",
      "(102,)\n"
     ]
    }
   ],
   "source": [
    "#Ahora partimos la data en sets de entrenamiento y de test.\n",
    "#Entrenaremos nuestro modelo con un 80% de ejemplos; y luego lo testearemos con el resto 20%.\n",
    "#Esto lo hacemos PARA EVALUAR EL RENDIMIENTO DEL MODELO EN DATOS NO VISTOS.\n",
    "#Para hacer esta partición usamos la función de scikit-learn \"train_test_split\".\n",
    "\n",
    "X_train, X_test, Y_train, Y_test = train_test_split(X, Y, test_size = 0.2, random_state=5)\n",
    "\n",
    "#Luego imprimimos los tamaños de nuestro set de train y test para veritificar que se partieron los datos correctamente:\n",
    "print(X_train.shape)\n",
    "print(X_test.shape)\n",
    "print(Y_train.shape)\n",
    "print(Y_test.shape)\n"
   ]
  },
  {
   "cell_type": "code",
   "execution_count": 199,
   "metadata": {},
   "outputs": [
    {
     "data": {
      "text/plain": [
       "LinearRegression(copy_X=True, fit_intercept=True, n_jobs=1, normalize=False)"
      ]
     },
     "execution_count": 199,
     "metadata": {},
     "output_type": "execute_result"
    }
   ],
   "source": [
    "#Ahora entrenamos a nuestro modelo con el set de entrenamiento obviamente (mediante la función LinearRegression de scickit-learn):\n",
    "lin_model = LinearRegression()\n",
    "lin_model.fit(X_train, Y_train)\n"
   ]
  },
  {
   "cell_type": "code",
   "execution_count": 200,
   "metadata": {},
   "outputs": [
    {
     "name": "stdout",
     "output_type": "stream",
     "text": [
      "Performance del modelo:\n",
      "MSE:  26.39\n",
      "RMSE es: 5.14\n",
      "R2 score es: 0.66\n"
     ]
    }
   ],
   "source": [
    "#Ahora evaluamos nuestro modelo... hacemos predicciones en base a nuestros set de PRUEBAS (TESTs):\n",
    "y_predict = lin_model.predict(X_test)\n",
    "MSE = mean_squared_error(Y_test, y_predict)\n",
    "rmse = (np.sqrt(mean_squared_error(Y_test, y_predict)))\n",
    "r2 = r2_score(Y_test, y_predict)\n",
    "\n",
    "\n",
    "#El  %.2f' % es para dejar solo 2 decimales. \n",
    "print(\"Performance del modelo:\")\n",
    "print('MSE:  %.2f' % MSE ) # Error Cuadrado Medio\n",
    "print('RMSE es: %.2f' % rmse) # Este es el valor donde corta el eje Y (en X=0)\n",
    "print('R2 score es: %.2f' % r2) # Este es el valor donde corta el eje Y (en X=0)\n"
   ]
  },
  {
   "cell_type": "code",
   "execution_count": 201,
   "metadata": {},
   "outputs": [
    {
     "data": {
      "text/plain": [
       "array([-0.71722954,  4.58938833])"
      ]
     },
     "execution_count": 201,
     "metadata": {},
     "output_type": "execute_result"
    }
   ],
   "source": [
    "lin_model.coef_"
   ]
  },
  {
   "cell_type": "code",
   "execution_count": null,
   "metadata": {},
   "outputs": [],
   "source": [
    "#Estos valores que nos dieron NO son los mejores, pero es un buen camino. "
   ]
  },
  {
   "cell_type": "markdown",
   "metadata": {},
   "source": [
    "##### 7-Regresión Ridge y Lasso:"
   ]
  },
  {
   "cell_type": "code",
   "execution_count": 168,
   "metadata": {},
   "outputs": [
    {
     "data": {
      "text/plain": [
       "Lasso(alpha=0.1, copy_X=True, fit_intercept=True, max_iter=1000,\n",
       "   normalize=False, positive=False, precompute=False, random_state=None,\n",
       "   selection='cyclic', tol=0.0001, warm_start=False)"
      ]
     },
     "execution_count": 168,
     "metadata": {},
     "output_type": "execute_result"
    }
   ],
   "source": [
    "#Como sabemos, Ridge y Lasso son técnicas de regularización que nos permiten mejorar la performance del modelo por ej. cuando\n",
    "#tenemos multicolinealidad (en nuestro caso no sucede esto: LSTAT y RM NO lo son), \n",
    "#pero igualmente lo implementamos y comparamos ambas regresiones para ver a qué valores llegamos.  \n",
    "\n",
    "# Nuevamente preparamos la data para usar RLM - R Ridge y R Lasso:\n",
    "X = pd.DataFrame(np.c_[DFBoston['LSTAT'], DFBoston['RM']], columns = ['LSTAT','RM'])\n",
    "Y = DFBoston['MEDV']\n",
    "#Nuevamente partimos la data en sets de entrenamiento y de test:\n",
    "X_train, X_test, Y_train, Y_test = train_test_split(X, Y, test_size = 0.2, random_state=5)\n",
    "\n",
    "#Anteriormente hicimos esto para que Python modele la Regresión Lineal: (usó el método de minimos cuadrados)\n",
    "lin_model = LinearRegression()\n",
    "lin_model.fit(X_train, Y_train         #entrenamos el modelo.\n",
    "\n",
    "#De esta manera le decimos a Python que envés del método de minimos cuadrados utilice Ridge:\n",
    "lin_model_ridge = Ridge(alpha=0.5)\n",
    "lin_model_ridge.fit(X_train, Y_train)  #entrenamos el modelo. \n",
    "\n",
    "#Y así le decimos que utilice Lasso:\n",
    "# Create ridge regression with an alpha value\n",
    "lin_model_lasso = Lasso(alpha=0.1) \n",
    "lin_model_lasso.fit(X_train, Y_train)  #entrenamos el modelo."
   ]
  },
  {
   "cell_type": "code",
   "execution_count": 203,
   "metadata": {},
   "outputs": [
    {
     "data": {
      "text/plain": [
       "array([-0.71822299,  4.57171055])"
      ]
     },
     "execution_count": 203,
     "metadata": {},
     "output_type": "execute_result"
    }
   ],
   "source": [
    "lin_model_ridge.coef_"
   ]
  },
  {
   "cell_type": "code",
   "execution_count": 202,
   "metadata": {},
   "outputs": [
    {
     "name": "stdout",
     "output_type": "stream",
     "text": [
      "Performance del modelo Método de mínimos cuadrados:\n",
      "MSE:  26.393\n",
      "RMSE es: 5.137\n",
      "R2 score es: 0.663\n",
      "Performance del modelo Método de Ridge:\n",
      "MSE:  26.419\n",
      "RMSE es: 5.140\n",
      "R2 score es: 0.663\n",
      "Performance del modelo Método de Lasso:\n",
      "MSE:  26.810\n",
      "RMSE es: 5.178\n",
      "R2 score es: 0.658\n"
     ]
    }
   ],
   "source": [
    "#Ahora evaluamos nuestros modelos (hacemos predicciones en base a nuestros set de PRUEBAS (TESTs)) para los 3 casos:\n",
    "\n",
    "#Con Métodos de mínimos cuadrados (lo que hice anteriormente:)\n",
    "y_predict_1 = lin_model.predict(X_test)\n",
    "MSE_1 = mean_squared_error(Y_test, y_predict_1)\n",
    "rmse_1 = (np.sqrt(mean_squared_error(Y_test, y_predict_1)))\n",
    "r2_1 = r2_score(Y_test, y_predict_1)\n",
    "\n",
    "#Con Ridge:\n",
    "y_predict_2 = lin_model_ridge.predict(X_test)\n",
    "MSE_2 = mean_squared_error(Y_test, y_predict_2)\n",
    "rmse_2 = (np.sqrt(mean_squared_error(Y_test, y_predict_2)))\n",
    "r2_2 = r2_score(Y_test, y_predict_2)\n",
    "\n",
    "#Con Lasso:\n",
    "y_predict_3 = lin_model_lasso.predict(X_test)\n",
    "MSE_3 = mean_squared_error(Y_test, y_predict_3)\n",
    "rmse_3 = (np.sqrt(mean_squared_error(Y_test, y_predict_3)))\n",
    "r2_3 = r2_score(Y_test, y_predict_3)\n",
    "\n",
    "#Imprimimos los resultados: \n",
    "print(\"Performance del modelo Método de mínimos cuadrados:\")\n",
    "print('MSE:  %.3f' % MSE_1 ) # Error Cuadrado Medio\n",
    "print('RMSE es: %.3f' % rmse_1) # Este es el valor donde corta el eje Y (en X=0)\n",
    "print('R2 score es: %.3f' % r2_1) # Este es el valor donde corta el eje Y (en X=0)\n",
    "\n",
    "print(\"Performance del modelo Método de Ridge:\")\n",
    "print('MSE:  %.3f' % MSE_2 ) # Error Cuadrado Medio\n",
    "print('RMSE es: %.3f' % rmse_2) # Este es el valor donde corta el eje Y (en X=0)\n",
    "print('R2 score es: %.3f' % r2_2) # Este es el valor donde corta el eje Y (en X=0)\n",
    "\n",
    "print(\"Performance del modelo Método de Lasso:\")\n",
    "print('MSE:  %.3f' % MSE_3 ) # Error Cuadrado Medio\n",
    "print('RMSE es: %.3f' % rmse_3) # Este es el valor donde corta el eje Y (en X=0)\n",
    "print('R2 score es: %.3f' % r2_3) # Este es el valor donde corta el eje Y (en X=0)\n"
   ]
  },
  {
   "cell_type": "code",
   "execution_count": null,
   "metadata": {},
   "outputs": [],
   "source": [
    "#Conclusión:\n",
    "    #Los métodos de Ridge y Lasso nos dieron prácticamente lo mismo que aplicando método de mínimos cuadrados, con\n",
    "    #lo cual aplicar un método u otro es lo mismo en nuestor caso.\n",
    "    #Se debería provar mediante el método de \"Cross Validation\" para elegir un ALFA apropiado, ya que enteriormente elegimos \n",
    "    #2 alfas \"al azar\": 0.5 para Ridge y 0.1 para Lasso. "
   ]
  },
  {
   "cell_type": "code",
   "execution_count": null,
   "metadata": {},
   "outputs": [],
   "source": []
  }
 ],
 "metadata": {
  "kernelspec": {
   "display_name": "Python 3",
   "language": "python",
   "name": "python3"
  },
  "language_info": {
   "codemirror_mode": {
    "name": "ipython",
    "version": 3
   },
   "file_extension": ".py",
   "mimetype": "text/x-python",
   "name": "python",
   "nbconvert_exporter": "python",
   "pygments_lexer": "ipython3",
   "version": "3.6.5"
  }
 },
 "nbformat": 4,
 "nbformat_minor": 4
}
